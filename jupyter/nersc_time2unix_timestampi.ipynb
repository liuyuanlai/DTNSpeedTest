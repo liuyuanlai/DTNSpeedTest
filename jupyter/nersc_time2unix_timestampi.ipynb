{
 "cells": [
  {
   "cell_type": "code",
   "execution_count": 1,
   "metadata": {},
   "outputs": [],
   "source": [
    "import numpy as np\n",
    "import pandas as pd\n",
    "import datetime\n",
    "import pytz\n",
    "import os\n"
   ]
  },
  {
   "cell_type": "code",
   "execution_count": 13,
   "metadata": {},
   "outputs": [],
   "source": [
    "def convert_datetime_timezone(dt, tz1, tz2):\n",
    "    tz1 = pytz.timezone(tz1)\n",
    "    tz2 = pytz.timezone(tz2)\n",
    "\n",
    "    dt = datetime.datetime.strptime(dt,\"%Y-%m-%d %H:%M\")\n",
    "    dt = tz1.localize(dt)\n",
    "    print(dt)\n",
    "    dt = dt.astimezone(tz2).timestamp()\n",
    "    #dt = dt.strftime(\"%Y-%m-%d %H:%M:%S\")\n",
    "\n",
    "    return dt"
   ]
  },
  {
   "cell_type": "code",
   "execution_count": 16,
   "metadata": {},
   "outputs": [],
   "source": [
    "timeStamp = \"2018-09-01 12:43\""
   ]
  },
  {
   "cell_type": "code",
   "execution_count": 17,
   "metadata": {},
   "outputs": [
    {
     "name": "stdout",
     "output_type": "stream",
     "text": [
      "2018-09-01 12:43:00-07:00\n"
     ]
    },
    {
     "data": {
      "text/plain": [
       "1535830980.0"
      ]
     },
     "execution_count": 17,
     "metadata": {},
     "output_type": "execute_result"
    }
   ],
   "source": [
    "convert_datetime_timezone(timeStamp, 'America/Los_Angeles', 'UTC')"
   ]
  },
  {
   "cell_type": "code",
   "execution_count": 10,
   "metadata": {},
   "outputs": [
    {
     "data": {
      "text/plain": [
       "float"
      ]
     },
     "execution_count": 10,
     "metadata": {},
     "output_type": "execute_result"
    }
   ],
   "source": []
  },
  {
   "cell_type": "code",
   "execution_count": null,
   "metadata": {},
   "outputs": [],
   "source": []
  }
 ],
 "metadata": {
  "kernelspec": {
   "display_name": "Python [default]",
   "language": "python",
   "name": "python3"
  },
  "language_info": {
   "codemirror_mode": {
    "name": "ipython",
    "version": 3
   },
   "file_extension": ".py",
   "mimetype": "text/x-python",
   "name": "python",
   "nbconvert_exporter": "python",
   "pygments_lexer": "ipython3",
   "version": "3.6.5"
  }
 },
 "nbformat": 4,
 "nbformat_minor": 2
}

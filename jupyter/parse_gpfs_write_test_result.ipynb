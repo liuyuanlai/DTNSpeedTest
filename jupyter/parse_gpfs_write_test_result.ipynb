{
 "cells": [
  {
   "cell_type": "code",
   "execution_count": 1,
   "metadata": {},
   "outputs": [],
   "source": [
    "import matplotlib.pyplot as plt\n",
    "import numpy as np\n",
    "import pandas as pd"
   ]
  },
  {
   "cell_type": "code",
   "execution_count": 2,
   "metadata": {},
   "outputs": [],
   "source": [
    "ccMax = 96\n",
    "time = 60\n",
    "path = \"/global/project/projectdirs/m2930/lyl/gf_test/write_test_files/07.08-11.35.18_mpi.txt\"\n",
    "ccList = range(1, ccMax + 1)"
   ]
  },
  {
   "cell_type": "code",
   "execution_count": 3,
   "metadata": {},
   "outputs": [
    {
     "name": "stdout",
     "output_type": "stream",
     "text": [
      "cc=1:      write speed=0.53GB/s\n",
      "cc=2:      write speed=0.82GB/s\n",
      "cc=3:      write speed=0.73GB/s\n",
      "cc=4:      write speed=1.2GB/s\n",
      "cc=5:      write speed=1.35GB/s\n",
      "cc=6:      write speed=2.75GB/s\n",
      "cc=7:      write speed=5.4GB/s\n",
      "cc=8:      write speed=5.55GB/s\n",
      "cc=9:      write speed=5.9GB/s\n",
      "cc=10:      write speed=5.27GB/s\n",
      "cc=11:      write speed=1.88GB/s\n",
      "cc=12:      write speed=3.63GB/s\n",
      "cc=13:      write speed=7.75GB/s\n",
      "cc=14:      write speed=8.93GB/s\n",
      "cc=15:      write speed=8.53GB/s\n",
      "cc=16:      write speed=3.63GB/s\n",
      "cc=17:      write speed=3.15GB/s\n",
      "cc=18:      write speed=4.75GB/s\n",
      "cc=19:      write speed=10.27GB/s\n",
      "cc=20:      write speed=5.83GB/s\n",
      "cc=21:      write speed=15.35GB/s\n",
      "cc=22:      write speed=12.05GB/s\n",
      "cc=23:      write speed=5.37GB/s\n",
      "cc=24:      write speed=4.05GB/s\n",
      "cc=25:      write speed=8.47GB/s\n",
      "cc=26:      write speed=15.62GB/s\n",
      "cc=27:      write speed=12.92GB/s\n",
      "cc=28:      write speed=10.18GB/s\n",
      "cc=29:      write speed=11.22GB/s\n",
      "cc=30:      write speed=3.5GB/s\n",
      "cc=31:      write speed=18.33GB/s\n",
      "cc=32:      write speed=9.38GB/s\n",
      "cc=33:      write speed=12.6GB/s\n",
      "cc=34:      write speed=11.95GB/s\n",
      "cc=35:      write speed=11.53GB/s\n",
      "cc=36:      write speed=16.7GB/s\n",
      "cc=37:      write speed=11.17GB/s\n",
      "cc=38:      write speed=11.8GB/s\n",
      "cc=39:      write speed=11.2GB/s\n",
      "cc=40:      write speed=6.9GB/s\n",
      "cc=41:      write speed=10.27GB/s\n",
      "cc=42:      write speed=6.03GB/s\n",
      "cc=43:      write speed=12.35GB/s\n",
      "cc=44:      write speed=12.55GB/s\n",
      "cc=45:      write speed=8.73GB/s\n",
      "cc=46:      write speed=12.22GB/s\n",
      "cc=47:      write speed=8.55GB/s\n",
      "cc=48:      write speed=13.93GB/s\n",
      "cc=49:      write speed=14.52GB/s\n",
      "cc=50:      write speed=10.03GB/s\n",
      "cc=51:      write speed=18.33GB/s\n",
      "cc=52:      write speed=11.37GB/s\n",
      "cc=53:      write speed=12.83GB/s\n",
      "cc=54:      write speed=14.12GB/s\n",
      "cc=55:      write speed=12.3GB/s\n",
      "cc=56:      write speed=10.38GB/s\n",
      "cc=57:      write speed=13.83GB/s\n",
      "cc=58:      write speed=9.02GB/s\n",
      "cc=59:      write speed=10.35GB/s\n",
      "cc=60:      write speed=13.28GB/s\n",
      "cc=61:      write speed=13.18GB/s\n",
      "cc=62:      write speed=10.37GB/s\n",
      "cc=63:      write speed=11.07GB/s\n",
      "cc=64:      write speed=12.98GB/s\n",
      "cc=65:      write speed=11.37GB/s\n",
      "cc=66:      write speed=13.48GB/s\n",
      "cc=67:      write speed=15.45GB/s\n",
      "cc=68:      write speed=12.28GB/s\n",
      "cc=69:      write speed=18.33GB/s\n",
      "cc=70:      write speed=9.53GB/s\n",
      "cc=71:      write speed=12.75GB/s\n",
      "cc=72:      write speed=10.6GB/s\n",
      "cc=73:      write speed=11.15GB/s\n",
      "cc=74:      write speed=12.87GB/s\n",
      "cc=75:      write speed=9.82GB/s\n",
      "cc=76:      write speed=20.0GB/s\n",
      "cc=77:      write speed=13.05GB/s\n",
      "cc=78:      write speed=13.85GB/s\n",
      "cc=79:      write speed=10.98GB/s\n",
      "cc=80:      write speed=13.87GB/s\n",
      "cc=81:      write speed=18.33GB/s\n",
      "cc=82:      write speed=12.38GB/s\n",
      "cc=83:      write speed=13.12GB/s\n",
      "cc=84:      write speed=13.58GB/s\n",
      "cc=85:      write speed=12.95GB/s\n",
      "cc=86:      write speed=20.0GB/s\n",
      "cc=87:      write speed=13.88GB/s\n",
      "cc=88:      write speed=11.55GB/s\n",
      "cc=89:      write speed=18.33GB/s\n",
      "cc=90:      write speed=14.63GB/s\n",
      "cc=91:      write speed=14.62GB/s\n",
      "cc=92:      write speed=12.62GB/s\n",
      "cc=93:      write speed=13.72GB/s\n",
      "cc=94:      write speed=16.32GB/s\n",
      "cc=95:      write speed=15.98GB/s\n",
      "cc=96:      write speed=11.78GB/s\n"
     ]
    }
   ],
   "source": [
    "tr = []\n",
    "timeStamps = []\n",
    "with open(path, 'r') as fp:\n",
    "        for cc in range(1, ccMax + 1):\n",
    "                timestamp = fp.readline().rstrip('\\n')\n",
    "                timeStamps.append(timestamp)\n",
    "                sizestr = fp.readline().rstrip('\\n')\n",
    "                #print timestr\n",
    "                size = sizestr.split(\"\\t\")[0]\n",
    "                #print(size)\n",
    "                unit = size[-1]\n",
    "                size = size[:-1]\n",
    "                \n",
    "                size = float(size) * (1000 if unit == \"T\" else 1) \n",
    "                speed = size / time\n",
    "                speed = float(\"%.2f\" % speed)\n",
    "                tr.append(speed)\n",
    "                timestamp = fp.readline().rstrip('\\n')\n",
    "                timeStamps.append(timestamp)\n",
    "                print(\"cc=\" + str(cc) + \":      \" + \"write speed=\" + str(speed) + \"GB/s\")"
   ]
  },
  {
   "cell_type": "code",
   "execution_count": 4,
   "metadata": {},
   "outputs": [
    {
     "data": {
      "image/png": "[encoded data removed]",
      "text/plain": [
       "<matplotlib.figure.Figure at 0x2ba08be2eda0>"
      ]
     },
     "metadata": {},
     "output_type": "display_data"
    },
    {
     "name": "stdout",
     "output_type": "stream",
     "text": [
      "Highest write speed achieved is 20.0GB/s, when cc is 76\n"
     ]
    }
   ],
   "source": [
    "plt.plot(ccList, tr)\n",
    "plt.xlabel(\"cc\")\n",
    "plt.ylabel(\"GB/s\")\n",
    "ax = plt.axes()        \n",
    "ax.yaxis.grid()\n",
    "plt.show()\n",
    "trMax = max(tr)\n",
    "trMaxIdx = tr.index(trMax) + 1\n",
    "print(\"Highest write speed achieved is \" + str(max(tr)) + \"GB/s, when cc is \" + str(trMaxIdx))"
   ]
  },
  {
   "cell_type": "code",
   "execution_count": null,
   "metadata": {},
   "outputs": [],
   "source": []
  }
 ],
 "metadata": {
  "kernelspec": {
   "display_name": "Python [conda env:3.6-anaconda-4.4]",
   "language": "python",
   "name": "conda-env-3.6-anaconda-4.4-py"
  },
  "language_info": {
   "codemirror_mode": {
    "name": "ipython",
    "version": 3
   },
   "file_extension": ".py",
   "mimetype": "text/x-python",
   "name": "python",
   "nbconvert_exporter": "python",
   "pygments_lexer": "ipython3",
   "version": "3.6.1"
  }
 },
 "nbformat": 4,
 "nbformat_minor": 2
}

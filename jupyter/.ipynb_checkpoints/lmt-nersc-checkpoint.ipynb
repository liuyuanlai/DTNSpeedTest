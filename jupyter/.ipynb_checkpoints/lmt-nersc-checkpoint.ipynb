{
 "cells": [
  {
   "cell_type": "code",
   "execution_count": 1,
   "metadata": {},
   "outputs": [],
   "source": [
    "import numpy as np\n",
    "from matplotlib import pyplot as plt\n",
    "from mpl_toolkits.mplot3d import axes3d\n",
    "import matplotlib.ticker as mtick\n",
    "import matplotlib.dates as mdates\n",
    "import glob, operator, time, itertools, gzip, json, requests, datetime, os, struct\n",
    "import pandas as pd\n",
    "from scipy.stats import pearsonr\n",
    "from collections import Counter\n",
    "from multiprocessing import Pool\n",
    "\n",
    "from IPython.display import display\n",
    "%matplotlib inline\n",
    "pd.set_option('display.max_columns', 100)\n",
    "plt.style.use('classic')"
   ]
  },
  {
   "cell_type": "code",
   "execution_count": 35,
   "metadata": {},
   "outputs": [],
   "source": [
    "'''\n",
    "\"missing\", \"readrates\", \"mdscpu\", \"timestamps\", \"osscpu\", \"writerates\", \"metadata\"\n",
    "\"scratch2\", \"scratch3\", \"scratch1\", \"cscratch\"\n",
    "'''\n",
    "def get_lmt(start, end, fs, record):\n",
    "    print \"start get %s data of %s from %s to %s\" % (\\\n",
    "          record, fs, pd.datetime.utcfromtimestamp(start), pd.datetime.utcfromtimestamp(end))\n",
    "    url = \"http://app.pytokio.dev-cattle.stable.spin.nersc.org:8081/hdf5/%s/%s?start=%d&end=%d\" % (fs,\n",
    "          record, start, end, )\n",
    "    r = requests.get(url, headers={'accept': 'application/json'}).json()\n",
    "    if r.get('message') is not None: print r['message']\n",
    "    return r\n",
    "    \n",
    "# ts = 1526231580 \n",
    "# # ts = 1509793200 \n",
    "# te = ts + 1800\n",
    "# ost_wr = get_lmt(ts, te, 'cscratch', 'writerates')\n",
    "# ost_rr = get_lmt(ts, te, 'cscratch', 'readrates')\n",
    "# ost_cpu = get_lmt(ts, te, 'cscratch', 'osscpu')"
   ]
  },
  {
   "cell_type": "code",
   "execution_count": null,
   "metadata": {},
   "outputs": [],
   "source": []
  }
 ],
 "metadata": {
  "kernelspec": {
   "display_name": "Python [conda env:3.6-anaconda-4.4]",
   "language": "python",
   "name": "conda-env-3.6-anaconda-4.4-py"
  },
  "language_info": {
   "codemirror_mode": {
    "name": "ipython",
    "version": 3
   },
   "file_extension": ".py",
   "mimetype": "text/x-python",
   "name": "python",
   "nbconvert_exporter": "python",
   "pygments_lexer": "ipython3",
   "version": "3.6.1"
  }
 },
 "nbformat": 4,
 "nbformat_minor": 2
}

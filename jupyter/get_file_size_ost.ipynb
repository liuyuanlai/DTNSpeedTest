{
 "cells": [
  {
   "cell_type": "code",
   "execution_count": 1,
   "metadata": {},
   "outputs": [],
   "source": [
    "import os\n",
    "import subprocess\n",
    "import re\n"
   ]
  },
  {
   "cell_type": "code",
   "execution_count": 4,
   "metadata": {},
   "outputs": [],
   "source": [
    "file = \"/global/cscratch1/sd/yuanlai/gf_test/new_test_files_limit_ost_smaller/file\""
   ]
  },
  {
   "cell_type": "code",
   "execution_count": 5,
   "metadata": {},
   "outputs": [],
   "source": [
    "f_size = []\n",
    "f_ost = []\n",
    "with open(\"/global/cscratch1/sd/yuanlai/gf_test/new_test_files_limit_ost_smaller/f_path_size_ost.txt\", \"w\") as f:\n",
    "    for i in range(59581):\n",
    "        f_size = os.path.getsize(file+str(i))\n",
    "        result = subprocess.run([\"lfs\", \"getstripe\", file+str(i)], stdout=subprocess.PIPE)\n",
    "        match = re.search(\"lmm_stripe_offset:  (\\d+)\", str(result.stdout))\n",
    "        f_ost = match.group(1)\n",
    "        f.write(file+str(i) + \" \" + str(f_size) + \" \" + f_ost + \"\\n\")\n",
    "f.close()\n",
    "         "
   ]
  },
  {
   "cell_type": "code",
   "execution_count": 9,
   "metadata": {},
   "outputs": [
    {
     "data": {
      "text/plain": [
       "0"
      ]
     },
     "execution_count": 9,
     "metadata": {},
     "output_type": "execute_result"
    }
   ],
   "source": []
  },
  {
   "cell_type": "code",
   "execution_count": 41,
   "metadata": {},
   "outputs": [],
   "source": [
    "result = subprocess.run([\"lfs\", \"getstripe\", file+\"1\"], stdout=subprocess.PIPE)\n",
    "match = re.search(\"lmm_stripe_offset:  (\\d+)\", str(result.stdout))"
   ]
  },
  {
   "cell_type": "code",
   "execution_count": 45,
   "metadata": {},
   "outputs": [
    {
     "data": {
      "text/plain": [
       "'178'"
      ]
     },
     "execution_count": 45,
     "metadata": {},
     "output_type": "execute_result"
    }
   ],
   "source": [
    "match.group(1)"
   ]
  },
  {
   "cell_type": "code",
   "execution_count": 27,
   "metadata": {},
   "outputs": [
    {
     "data": {
      "text/plain": [
       "\"b'/global/cscratch1/sd/yuanlai/gf_test/new_test_files_all_ost/file1\\\\nlmm_stripe_count:   1\\\\nlmm_stripe_size:    1048576\\\\nlmm_pattern:        1\\\\nlmm_layout_gen:     0\\\\nlmm_stripe_offset:  178\\\\n\\\\tobdidx\\\\t\\\\t objid\\\\t\\\\t objid\\\\t\\\\t group\\\\n\\\\t   178\\\\t     190925044\\\\t    0xb6148f4\\\\t             0\\\\n\\\\n'\""
      ]
     },
     "execution_count": 27,
     "metadata": {},
     "output_type": "execute_result"
    }
   ],
   "source": [
    "str(result.stdout)"
   ]
  },
  {
   "cell_type": "code",
   "execution_count": 36,
   "metadata": {},
   "outputs": [
    {
     "data": {
      "text/plain": [
       "167"
      ]
     },
     "execution_count": 36,
     "metadata": {},
     "output_type": "execute_result"
    }
   ],
   "source": [
    "str(result.stdout).find(\"lmm_stripe_offset:\")"
   ]
  },
  {
   "cell_type": "code",
   "execution_count": 40,
   "metadata": {},
   "outputs": [
    {
     "data": {
      "text/plain": [
       "'1'"
      ]
     },
     "execution_count": 40,
     "metadata": {},
     "output_type": "execute_result"
    }
   ],
   "source": [
    "str(result.stdout)[169+len(\"lmm_stripe_offset:\")]"
   ]
  },
  {
   "cell_type": "code",
   "execution_count": null,
   "metadata": {},
   "outputs": [],
   "source": []
  }
 ],
 "metadata": {
  "kernelspec": {
   "display_name": "Python [conda env:3.6-anaconda-5.2]",
   "language": "python",
   "name": "conda-env-3.6-anaconda-5.2-py"
  },
  "language_info": {
   "codemirror_mode": {
    "name": "ipython",
    "version": 3
   },
   "file_extension": ".py",
   "mimetype": "text/x-python",
   "name": "python",
   "nbconvert_exporter": "python",
   "pygments_lexer": "ipython3",
   "version": "3.6.5"
  }
 },
 "nbformat": 4,
 "nbformat_minor": 2
}

{
 "cells": [
  {
   "cell_type": "code",
   "execution_count": 147,
   "metadata": {
    "nbpresent": {
     "id": "bcfcde95-57f7-4e62-b949-84d4eb022237"
    }
   },
   "outputs": [],
   "source": [
    "import matplotlib.pyplot as plt"
   ]
  },
  {
   "cell_type": "code",
   "execution_count": 148,
   "metadata": {
    "nbpresent": {
     "id": "f868b8bf-7e2f-4d33-a01a-6b5e6499d43d"
    }
   },
   "outputs": [],
   "source": [
    "import numpy as np\n",
    "import pandas as pd\n",
    "import datetime\n",
    "import pytz\n",
    "import os"
   ]
  },
  {
   "cell_type": "code",
   "execution_count": 30,
   "metadata": {
    "nbpresent": {
     "id": "3dc43fb8-2c07-4595-8ffc-d6e768e555ec"
    }
   },
   "outputs": [],
   "source": [
    "def convert_datetime_timezone(dt, tz1, tz2):\n",
    "    tz1 = pytz.timezone(tz1)\n",
    "    tz2 = pytz.timezone(tz2)\n",
    "\n",
    "    dt = datetime.datetime.strptime(dt,\"%Y-%m-%d %H.%M.%S\")\n",
    "    dt = tz1.localize(dt)\n",
    "    dt = dt.astimezone(tz2)\n",
    "    dt = dt.strftime(\"%Y-%m-%d %H:%M:%S\")\n",
    "\n",
    "    return dt"
   ]
  },
  {
   "cell_type": "code",
   "execution_count": 133,
   "metadata": {},
   "outputs": [],
   "source": [
    "def get_time_interval(ts, telas):\n",
    "    time_interval = []\n",
    "    for i in range(len(ts)):\n",
    "        t1 = datetime.datetime.strptime(ts[i],\"%Y-%m-%d %H:%M:%S\")\n",
    "        tela = datetime.timedelta(seconds=telas[i])\n",
    "        t2 = t1 + tela\n",
    "        t2 = t2.strftime(\"%Y-%m-%d %H:%M:%S\")\n",
    "        time_interval.append([ts[i], t2])\n",
    "    return time_interval"
   ]
  },
  {
   "cell_type": "code",
   "execution_count": null,
   "metadata": {},
   "outputs": [],
   "source": []
  },
  {
   "cell_type": "code",
   "execution_count": 317,
   "metadata": {
    "nbpresent": {
     "id": "8b35643f-9917-4e1c-8281-5c3f0b9f7355"
    }
   },
   "outputs": [],
   "source": [
    "#path = \"/global/cscratch1/sd/yuanlai/gf_test/read_test_results/vary_cc_result/06.28-20.25.52_night_posix.txt\"\n",
    "path = \"/global/cscratch1/sd/yuanlai/gf_test/l2g_test_results/vary_cc_result/07.04-19.52.08_mpi.txt\""
   ]
  },
  {
   "cell_type": "code",
   "execution_count": 318,
   "metadata": {
    "nbpresent": {
     "id": "5ca588b1-dfb7-4f0c-92b9-5a235810e6d6"
    }
   },
   "outputs": [],
   "source": [
    "ccMax = 96\n",
    "totalSize = 2**40\n",
    "ccList = range(1, ccMax + 1)"
   ]
  },
  {
   "cell_type": "code",
   "execution_count": 319,
   "metadata": {
    "nbpresent": {
     "id": "dc8e269a-8362-4cc6-9944-ac520dea4818"
    }
   },
   "outputs": [
    {
     "ename": "FileNotFoundError",
     "evalue": "[Errno 2] No such file or directory: '/global/cscratch1/sd/yuanlai/gf_test/l2g_test_results/vary_cc_result/07.06-11.25.52_mpi.txt'",
     "output_type": "error",
     "traceback": [
      "\u001b[0;31m---------------------------------------------------------------------------\u001b[0m",
      "\u001b[0;31mFileNotFoundError\u001b[0m                         Traceback (most recent call last)",
      "\u001b[0;32m<ipython-input-319-7b3ab551a632>\u001b[0m in \u001b[0;36m<module>\u001b[0;34m()\u001b[0m\n\u001b[1;32m      2\u001b[0m \u001b[0mtimeElapsed\u001b[0m \u001b[0;34m=\u001b[0m \u001b[0;34m[\u001b[0m\u001b[0;34m]\u001b[0m\u001b[0;34m\u001b[0m\u001b[0m\n\u001b[1;32m      3\u001b[0m \u001b[0mtimeStamps\u001b[0m \u001b[0;34m=\u001b[0m \u001b[0;34m[\u001b[0m\u001b[0;34m]\u001b[0m\u001b[0;34m\u001b[0m\u001b[0m\n\u001b[0;32m----> 4\u001b[0;31m \u001b[0;32mwith\u001b[0m \u001b[0mopen\u001b[0m\u001b[0;34m(\u001b[0m\u001b[0mpath\u001b[0m\u001b[0;34m,\u001b[0m \u001b[0;34m'r'\u001b[0m\u001b[0;34m)\u001b[0m \u001b[0;32mas\u001b[0m \u001b[0mfp\u001b[0m\u001b[0;34m:\u001b[0m\u001b[0;34m\u001b[0m\u001b[0m\n\u001b[0m\u001b[1;32m      5\u001b[0m         \u001b[0;32mfor\u001b[0m \u001b[0mcc\u001b[0m \u001b[0;32min\u001b[0m \u001b[0mrange\u001b[0m\u001b[0;34m(\u001b[0m\u001b[0;36m1\u001b[0m\u001b[0;34m,\u001b[0m \u001b[0mccMax\u001b[0m \u001b[0;34m+\u001b[0m \u001b[0;36m1\u001b[0m\u001b[0;34m)\u001b[0m\u001b[0;34m:\u001b[0m\u001b[0;34m\u001b[0m\u001b[0m\n\u001b[1;32m      6\u001b[0m                 \u001b[0mtimestamp\u001b[0m \u001b[0;34m=\u001b[0m \u001b[0mfp\u001b[0m\u001b[0;34m.\u001b[0m\u001b[0mreadline\u001b[0m\u001b[0;34m(\u001b[0m\u001b[0;34m)\u001b[0m\u001b[0;34m.\u001b[0m\u001b[0mrstrip\u001b[0m\u001b[0;34m(\u001b[0m\u001b[0;34m'\\n'\u001b[0m\u001b[0;34m)\u001b[0m\u001b[0;34m\u001b[0m\u001b[0m\n",
      "\u001b[0;31mFileNotFoundError\u001b[0m: [Errno 2] No such file or directory: '/global/cscratch1/sd/yuanlai/gf_test/l2g_test_results/vary_cc_result/07.06-11.25.52_mpi.txt'"
     ]
    }
   ],
   "source": [
    "tr = []\n",
    "timeElapsed = []\n",
    "timeStamps = []\n",
    "with open(path, 'r') as fp:\n",
    "        for cc in range(1, ccMax + 1):\n",
    "                timestamp = fp.readline().rstrip('\\n')\n",
    "                if int(timestamp.split('.')[0]) >= 19:\n",
    "                    timestamp = '2018-7-4 ' + timestamp\n",
    "                else:\n",
    "                    timestamp = '2018-7-5 ' + timestamp\n",
    "                timeStamps.append(timestamp)\n",
    "                timestr = fp.readline().rstrip('\\n')\n",
    "                #print timestr\n",
    "                try:\n",
    "                        time = float(timestr)\n",
    "                except:\n",
    "                        break\n",
    "                timeElapsed.append(time)\n",
    "                speed = totalSize / time\n",
    "                speed = float(\"%.2f\" % (speed / (2**30)))\n",
    "                tr.append(speed)\n",
    "                #print(\"cc=\" + str(cc) + \":      \" + \"transfer rate=\" + str(speed) + \"GB/s\")"
   ]
  },
  {
   "cell_type": "code",
   "execution_count": 109,
   "metadata": {
    "nbpresent": {
     "id": "081a5184-2037-4db4-a9ac-028349ee7778"
    }
   },
   "outputs": [
    {
     "data": {
      "image/png": "[encoded data removed]",
      "text/plain": [
       "<matplotlib.figure.Figure at 0x2b0075c69160>"
      ]
     },
     "metadata": {},
     "output_type": "display_data"
    },
    {
     "name": "stdout",
     "output_type": "stream",
     "text": [
      "Highest transfer rate achieved is 17.22GB/s, when cc is 42\n"
     ]
    }
   ],
   "source": [
    "plt.plot(ccList, tr)\n",
    "plt.xlabel(\"cc\")\n",
    "plt.ylabel(\"GB/s\")\n",
    "ax = plt.axes()        \n",
    "ax.yaxis.grid()\n",
    "plt.show()\n",
    "trMax = max(tr)\n",
    "trMaxIdx = tr.index(trMax) + 1\n",
    "print(\"Highest transfer rate achieved is \" + str(max(tr)) + \"GB/s, when cc is \" + str(trMaxIdx))"
   ]
  },
  {
   "cell_type": "code",
   "execution_count": 149,
   "metadata": {
    "nbpresent": {
     "id": "8f609f83-de72-4093-8f0e-80823e4df6e7"
    }
   },
   "outputs": [
    {
     "data": {
      "text/plain": [
       "206.62"
      ]
     },
     "execution_count": 149,
     "metadata": {},
     "output_type": "execute_result"
    }
   ],
   "source": [
    "timeElapsed[95]"
   ]
  },
  {
   "cell_type": "code",
   "execution_count": 37,
   "metadata": {
    "nbpresent": {
     "id": "70197728-7a35-4aa2-a784-9a3e2742301e"
    }
   },
   "outputs": [],
   "source": [
    "timeStampsUTC = [convert_datetime_timezone(timeStamp, 'America/Los_Angeles', 'UTC') for timeStamp in timeStamps]"
   ]
  },
  {
   "cell_type": "code",
   "execution_count": 123,
   "metadata": {
    "nbpresent": {
     "id": "60baf4f8-26cd-44a4-ab6a-8422d47731d4"
    }
   },
   "outputs": [
    {
     "data": {
      "text/plain": [
       "str"
      ]
     },
     "execution_count": 123,
     "metadata": {},
     "output_type": "execute_result"
    }
   ],
   "source": [
    "type(timeStampsUTC[0])"
   ]
  },
  {
   "cell_type": "code",
   "execution_count": 134,
   "metadata": {},
   "outputs": [],
   "source": [
    "time_interval = get_time_interval(timeStampsUTC, timeElapsed)"
   ]
  },
  {
   "cell_type": "code",
   "execution_count": 137,
   "metadata": {},
   "outputs": [
    {
     "data": {
      "text/plain": [
       "[['2018-07-05 02:52:13', '2018-07-05 03:14:37'],\n",
       " ['2018-07-05 03:14:37', '2018-07-05 03:26:15'],\n",
       " ['2018-07-05 03:26:16', '2018-07-05 03:35:15'],\n",
       " ['2018-07-05 03:35:15', '2018-07-05 03:41:10']]"
      ]
     },
     "execution_count": 137,
     "metadata": {},
     "output_type": "execute_result"
    }
   ],
   "source": [
    "time_interval[:4]"
   ]
  },
  {
   "cell_type": "code",
   "execution_count": 101,
   "metadata": {
    "nbpresent": {
     "id": "1bec0286-25ff-4ab2-9cbe-848dcbb724fe"
    }
   },
   "outputs": [],
   "source": [
    "cpu_usage_path = \"/global/cscratch1/sd/yuanlai/gf_test/dtn_cpu_usage/\"\n",
    "headers = ('cpu_usr', 'cpu_sys', 'cpu_idle', 'cpu_wait', 'cpu_hiq', 'cpu_siq', 'drd', 'dwr', \\\n",
    "               'net_recv', 'net_send', 'page_in', 'page_out', 'intr', 'csw', 'timestamp')"
   ]
  },
  {
   "cell_type": "code",
   "execution_count": 102,
   "metadata": {},
   "outputs": [
    {
     "data": {
      "text/plain": [
       "['dtn01.csv',\n",
       " 'dtn02.csv',\n",
       " 'dtn04.csv',\n",
       " 'dtn05.csv',\n",
       " 'dtn06.csv',\n",
       " 'dtn07.csv',\n",
       " 'dtn08.csv',\n",
       " 'dtn09.csv',\n",
       " 'dtn10.csv']"
      ]
     },
     "execution_count": 102,
     "metadata": {},
     "output_type": "execute_result"
    }
   ],
   "source": [
    "files = os.listdir(cpu_usage_path)\n",
    "files.sort()\n",
    "files"
   ]
  },
  {
   "cell_type": "code",
   "execution_count": 103,
   "metadata": {},
   "outputs": [],
   "source": [
    "def load_nersc_data(fns):\n",
    "    _ret = {}\n",
    "    dtn_list = []\n",
    "    for fn in fns:\n",
    "        fn = path + fn\n",
    "        dtn = fn.split('/')[-1][:5]\n",
    "        dtn_list.append(dtn)\n",
    "        _df = pd.read_csv(fn, skiprows=7, names=headers, header=None)\n",
    "        _df['timestamp'] = _df.timestamp.apply(pd.datetime.utcfromtimestamp)\n",
    "        _df.index = _df['timestamp']\n",
    "        del _df['timestamp']\n",
    "        _ret[dtn] = _df\n",
    "    return _ret, dtn_list"
   ]
  },
  {
   "cell_type": "code",
   "execution_count": 104,
   "metadata": {
    "nbpresent": {
     "id": "f6556060-9469-4318-902b-c4d15077b5e3"
    }
   },
   "outputs": [],
   "source": [
    "dtn_data, dtn_list = load_nersc_data(files)"
   ]
  },
  {
   "cell_type": "code",
   "execution_count": 159,
   "metadata": {},
   "outputs": [
    {
     "data": {
      "text/plain": [
       "96"
      ]
     },
     "execution_count": 159,
     "metadata": {},
     "output_type": "execute_result"
    }
   ],
   "source": [
    "len(time_interval)"
   ]
  },
  {
   "cell_type": "code",
   "execution_count": 232,
   "metadata": {},
   "outputs": [],
   "source": [
    "all_dtn_all_cc = []\n",
    "for i in range(ccMax):\n",
    "    all_dtn=[]\n",
    "    for dtn in dtn_list[:(i+1)]:\n",
    "        all_dtn_one_idle = list(dtn_data[dtn][time_interval[i][0]:time_interval[i][1]]['cpu_idle'])\n",
    "        all_dtn_one_usage = [100 - one_idle for one_idle in all_dtn_one_idle]\n",
    "        all_dtn.append(all_dtn_one_usage)\n",
    "    minLen = min((len(x) for x in all_dtn))\n",
    "    all_dtn_trim = [one_dtn[:minLen] for one_dtn in all_dtn]\n",
    "    all_dtn_array = np.array(all_dtn_trim)\n",
    "    all_dtn_avg = list(np.average(all_dtn_array, axis=0))\n",
    "    all_dtn_all_cc.append(all_dtn_avg)"
   ]
  },
  {
   "cell_type": "code",
   "execution_count": 237,
   "metadata": {},
   "outputs": [
    {
     "data": {
      "text/plain": [
       "96"
      ]
     },
     "execution_count": 237,
     "metadata": {},
     "output_type": "execute_result"
    }
   ],
   "source": [
    "len(all_dtn_all_cc)"
   ]
  },
  {
   "cell_type": "code",
   "execution_count": 315,
   "metadata": {},
   "outputs": [
    {
     "data": {
      "text/plain": [
       "<matplotlib.text.Text at 0x2b00b3fd5710>"
      ]
     },
     "execution_count": 315,
     "metadata": {},
     "output_type": "execute_result"
    }
   ],
   "source": [
    "plt.figure(figsize=(20, 5))\n",
    "fig, ax1 = plt.subplots()\n",
    "boxprops = dict(linewidth=3, color='black')\n",
    "medianprops = dict(linestyle='-', linewidth=3, color='darkgoldenrod')\n",
    "capprops = dict(linewidth=2, color='black')\n",
    "whiskerprops = dict(linewidth=2, color='black')\n",
    "bplot = ax1.boxplot(all_dtn_all_cc, widths=0.5, boxprops=boxprops, \\\n",
    "                    medianprops=medianprops, capprops=capprops, whiskerprops=whiskerprops, \\\n",
    "                    patch_artist=True, notch=True, showfliers=False)\n",
    "\n",
    "ax1.set_xlabel(\"cc\")\n",
    "ax1.set_ylabel(\"CPU Average Usage(%)\")\n",
    "\n",
    "ax2 = ax1.twinx()\n",
    "ax2.plot(tr)\n",
    "ax2.set_ylabel(\"Transfer Speed(GB/s)\")"
   ]
  },
  {
   "cell_type": "code",
   "execution_count": 316,
   "metadata": {},
   "outputs": [
    {
     "data": {
      "text/plain": [
       "<matplotlib.figure.Figure at 0x2b00b35e5080>"
      ]
     },
     "metadata": {},
     "output_type": "display_data"
    },
    {
     "data": {
      "image/png": "[encoded data removed]",
      "text/plain": [
       "<matplotlib.figure.Figure at 0x2b00b35dea20>"
      ]
     },
     "metadata": {},
     "output_type": "display_data"
    }
   ],
   "source": [
    "ax1.set_xticks(np.arange(min(ccList), max(ccList)+1, 4.0))\n",
    "ax1.set_xticklabels(ccList[::4])\n",
    "#plt.savefig(\"l2g_speed_cpu.pdf\")\n",
    "plt.show()\n"
   ]
  },
  {
   "cell_type": "code",
   "execution_count": 291,
   "metadata": {},
   "outputs": [
    {
     "data": {
      "text/plain": [
       "array([  1.,   5.,   9.,  13.,  17.,  21.,  25.,  29.,  33.,  37.,  41.,\n",
       "        45.,  49.,  53.,  57.,  61.,  65.,  69.,  73.,  77.,  81.,  85.,\n",
       "        89.,  93.])"
      ]
     },
     "execution_count": 291,
     "metadata": {},
     "output_type": "execute_result"
    }
   ],
   "source": [
    "np.arange(min(ccList), max(ccList)+1, 4.0)"
   ]
  },
  {
   "cell_type": "code",
   "execution_count": null,
   "metadata": {
    "nbpresent": {
     "id": "e5309a0e-7139-41e4-bb56-ea314422d4c1"
    }
   },
   "outputs": [],
   "source": []
  },
  {
   "cell_type": "code",
   "execution_count": null,
   "metadata": {
    "nbpresent": {
     "id": "a13be83b-801c-4e1d-8b08-752c3fd7c6a1"
    }
   },
   "outputs": [],
   "source": []
  },
  {
   "cell_type": "code",
   "execution_count": null,
   "metadata": {},
   "outputs": [],
   "source": []
  }
 ],
 "metadata": {
  "kernelspec": {
   "display_name": "Python 3",
   "language": "python",
   "name": "python3"
  },
  "language_info": {
   "codemirror_mode": {
    "name": "ipython",
    "version": 3
   },
   "file_extension": ".py",
   "mimetype": "text/x-python",
   "name": "python",
   "nbconvert_exporter": "python",
   "pygments_lexer": "ipython3",
   "version": "3.6.5"
  }
 },
 "nbformat": 4,
 "nbformat_minor": 2
}

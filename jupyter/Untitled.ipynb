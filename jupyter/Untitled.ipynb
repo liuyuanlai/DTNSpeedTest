{
 "cells": [
  {
   "cell_type": "code",
   "execution_count": 34,
   "metadata": {},
   "outputs": [],
   "source": [
    "pre = \"/global/homes/y/yuanlai/workspace/DTNSpeedTest/mpi_fread_test/small5fns-size-ost-bysize-\"\n",
    "pre2 = \"/global/homes/y/yuanlai/workspace/DTNSpeedTest/mpi_fread_test/small5fns-bysize-byost-\""
   ]
  },
  {
   "cell_type": "code",
   "execution_count": 36,
   "metadata": {},
   "outputs": [],
   "source": [
    "for count in range(1000, 51001, 5000):\n",
    "    OST_NUM = 5\n",
    "    osts = [[] for i in range(OST_NUM)] \n",
    "    with open(pre+str(count)+\".txt\", \"r\") as f1:\n",
    "        for line in f1:\n",
    "            path, size, ost = line.split(\" \")\n",
    "            osts[int(ost)].append((path, int(size)))\n",
    "    for i in range(OST_NUM):\n",
    "        osts[i].sort(key=lambda tup: tup[1], reverse=True)\n",
    "    pointer = [0] * OST_NUM\n",
    "    file_list = []\n",
    "    notcompleted = [True] * OST_NUM\n",
    "    ost_i = 0\n",
    "    while any(notcompleted):\n",
    "        if notcompleted[ost_i] and pointer[ost_i] < len(osts[ost_i]):\n",
    "            file_list.append(osts[ost_i][pointer[ost_i]][0])\n",
    "        pointer[ost_i] += 1\n",
    "        if pointer[ost_i] == len(osts[ost_i]):\n",
    "            notcompleted[ost_i] = False\n",
    "        ost_i = (ost_i + 1) % OST_NUM\n",
    "    f2 = open(pre2+str(count)+\".txt\", \"w\")\n",
    "    for file in file_list:\n",
    "        f2.write(file+\"\\n\")\n",
    "    f2.close()"
   ]
  },
  {
   "cell_type": "code",
   "execution_count": 2,
   "metadata": {},
   "outputs": [],
   "source": [
    "file = \"/global/homes/y/yuanlai/workspace/DTNSpeedTest/mpi_fread_test/small5fns-size-ost-bysize.txt\"\n",
    "OST_NUM = 5\n",
    "osts = [[] for i in range(OST_NUM)] \n",
    "with open(file, \"r\") as f1:\n",
    "    for line in f1:\n",
    "        path, size, ost = line.split(\" \")\n",
    "        osts[int(ost)].append((path, int(size)))\n",
    "for i in range(OST_NUM):\n",
    "    osts[i].sort(key=lambda tup: tup[1], reverse=True)"
   ]
  },
  {
   "cell_type": "code",
   "execution_count": 3,
   "metadata": {},
   "outputs": [],
   "source": [
    "pointer = [0] * OST_NUM\n",
    "file_list = []\n",
    "notcompleted = [True] * OST_NUM\n",
    "ost_i = 0\n",
    "while any(notcompleted):\n",
    "    if notcompleted[ost_i] and pointer[ost_i] < len(osts[ost_i]):\n",
    "        file_list.append(osts[ost_i][pointer[ost_i]][0])\n",
    "    pointer[ost_i] += 1\n",
    "    if pointer[ost_i] == len(osts[ost_i]):\n",
    "        notcompleted[ost_i] = False\n",
    "    ost_i = (ost_i + 1) % OST_NUM"
   ]
  },
  {
   "cell_type": "code",
   "execution_count": 5,
   "metadata": {},
   "outputs": [],
   "source": [
    "f2 = open(\"/global/homes/y/yuanlai/workspace/DTNSpeedTest/mpi_fread_test/small5fns-bysize-byost.txt\", \"w\")\n",
    "for file in file_list:\n",
    "    f2.write(file+\"\\n\")\n",
    "f2.close()"
   ]
  },
  {
   "cell_type": "code",
   "execution_count": null,
   "metadata": {},
   "outputs": [],
   "source": []
  }
 ],
 "metadata": {
  "kernelspec": {
   "display_name": "Python [conda env:3.6-anaconda-5.2]",
   "language": "python",
   "name": "conda-env-3.6-anaconda-5.2-py"
  },
  "language_info": {
   "codemirror_mode": {
    "name": "ipython",
    "version": 3
   },
   "file_extension": ".py",
   "mimetype": "text/x-python",
   "name": "python",
   "nbconvert_exporter": "python",
   "pygments_lexer": "ipython3",
   "version": "3.6.5"
  }
 },
 "nbformat": 4,
 "nbformat_minor": 2
}

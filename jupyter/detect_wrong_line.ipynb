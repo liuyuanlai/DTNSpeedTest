{
 "cells": [
  {
   "cell_type": "code",
   "execution_count": 6,
   "metadata": {},
   "outputs": [
    {
     "name": "stdout",
     "output_type": "stream",
     "text": [
      "14677\n"
     ]
    }
   ],
   "source": [
    "file = \"/global/homes/y/yuanlai/workspace/DTNSpeedTest/mpi_fread_test/vary_np_test_new.txt\"\n",
    "i = 0\n",
    "with open(file, 'r') as f:\n",
    "    line = f.readline()\n",
    "    while line:\n",
    "        line2 = f.readline()\n",
    "        if line2[:5] == \"=====\" and line[:5] == \"=====\":\n",
    "            print(i)\n",
    "        if line2[:5] == \"proce\" and line[:5] == \"proce\":\n",
    "            print(i)\n",
    "        if len(line2) > 68 or len(line2) < 2:\n",
    "            print(i)\n",
    "        line = line2\n",
    "        i += 1\n",
    "        \n",
    "    \n",
    "f.close()"
   ]
  },
  {
   "cell_type": "code",
   "execution_count": null,
   "metadata": {},
   "outputs": [],
   "source": []
  },
  {
   "cell_type": "code",
   "execution_count": null,
   "metadata": {},
   "outputs": [],
   "source": []
  }
 ],
 "metadata": {
  "kernelspec": {
   "display_name": "Python 3",
   "language": "python",
   "name": "python3"
  },
  "language_info": {
   "codemirror_mode": {
    "name": "ipython",
    "version": 3
   },
   "file_extension": ".py",
   "mimetype": "text/x-python",
   "name": "python",
   "nbconvert_exporter": "python",
   "pygments_lexer": "ipython3",
   "version": "3.6.5"
  }
 },
 "nbformat": 4,
 "nbformat_minor": 2
}

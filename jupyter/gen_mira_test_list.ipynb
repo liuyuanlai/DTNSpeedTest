{
 "cells": [
  {
   "cell_type": "code",
   "execution_count": 6,
   "metadata": {},
   "outputs": [],
   "source": [
    "import random\n"
   ]
  },
  {
   "cell_type": "code",
   "execution_count": 5,
   "metadata": {},
   "outputs": [],
   "source": [
    "file = \"/global/cscratch1/sd/yuanlai/gf_test/alcf_files/gpfs2nullList\""
   ]
  },
  {
   "cell_type": "code",
   "execution_count": 4,
   "metadata": {},
   "outputs": [],
   "source": [
    "with open(file, \"w\") as f:\n",
    "    for i in range(4000):\n",
    "        dtn = i % 12 + 1\n",
    "        source = \"ftp//miradtn\" + str(dtn).zfill(2) + \":12334/projects/AMASE/lyl/read_test_files/file\" + str(i)\n",
    "        des = \"ftp://miradtn\" + str(dtn).zfill(2) + \":12334/dev/null\"\n",
    "        line = source + \" \" + des + '\\n'\n",
    "        f.write(line)\n",
    "f.close()"
   ]
  },
  {
   "cell_type": "code",
   "execution_count": 6,
   "metadata": {},
   "outputs": [],
   "source": [
    "with open(file, \"w\") as f:\n",
    "    for i in range(4000):\n",
    "        dtn = i % 12 + 1\n",
    "        source = \"alcf#dtn_mira/projects/AMASE/lyl/read_test_files/file\" + str(i)\n",
    "        des = \"alcf#dtn_mira/dev/null\"\n",
    "        line = source + \" \" + des + '\\n'\n",
    "        f.write(line)\n",
    "f.close()"
   ]
  },
  {
   "cell_type": "code",
   "execution_count": 10,
   "metadata": {},
   "outputs": [],
   "source": [
    "file = \"/global/cscratch1/sd/yuanlai/gf_test/alcf_files/mirafzeroList.txt\""
   ]
  },
  {
   "cell_type": "code",
   "execution_count": 13,
   "metadata": {},
   "outputs": [],
   "source": [
    "with open(file, \"w\") as f:\n",
    "    for i in range(4000):\n",
    "        dtn = i % 12 + 1\n",
    "        source = \"ftp://miradtn\" + str(dtn).zfill(2) + \":12334/dev/zero\"\n",
    "        des = \"ftp://miradtn\" + str(dtn).zfill(2) + \":12334/projects/AMASE/lyl/write_test_files/file\" + str(i)\n",
    "        line = source + \" \" + des + '\\n'\n",
    "        f.write(line)\n",
    "f.close()"
   ]
  },
  {
   "cell_type": "code",
   "execution_count": 16,
   "metadata": {},
   "outputs": [],
   "source": [
    "file = \"/global/cscratch1/sd/yuanlai/gf_test/new_test_files_limit_ost/toLustreList\""
   ]
  },
  {
   "cell_type": "code",
   "execution_count": 17,
   "metadata": {},
   "outputs": [],
   "source": [
    "random.seed(1)\n",
    "with open(file, \"w\") as f:\n",
    "    for i in range(31942):\n",
    "        dtn = i % 10 + 1\n",
    "        while dtn == 3:\n",
    "            dtn = random.randint(1, 10)\n",
    "        source = \"ftp://dtn\" + str(dtn).zfill(2) + \":12334/global/cscratch1/sd/yuanlai/gf_test/new_test_files_limit_ost/file\" + str(i)\n",
    "        des = \"ftp://dtn\" + str(dtn).zfill(2) + \":12334/global/cscratch1/sd/yuanlai/gf_test/lustre2lustre_test_files/file\" + str(i)\n",
    "        #des = \"ftp://dtn\" + str(dtn).zfill(2) + \":12334/dev/null\"\n",
    "        line = source + \" \" + des + '\\n'\n",
    "        f.write(line)\n",
    "f.close()"
   ]
  },
  {
   "cell_type": "code",
   "execution_count": null,
   "metadata": {},
   "outputs": [],
   "source": []
  },
  {
   "cell_type": "code",
   "execution_count": null,
   "metadata": {},
   "outputs": [],
   "source": []
  }
 ],
 "metadata": {
  "kernelspec": {
   "display_name": "Python [conda env:3.6-anaconda-4.4]",
   "language": "python",
   "name": "conda-env-3.6-anaconda-4.4-py"
  },
  "language_info": {
   "codemirror_mode": {
    "name": "ipython",
    "version": 3
   },
   "file_extension": ".py",
   "mimetype": "text/x-python",
   "name": "python",
   "nbconvert_exporter": "python",
   "pygments_lexer": "ipython3",
   "version": "3.6.1"
  }
 },
 "nbformat": 4,
 "nbformat_minor": 2
}

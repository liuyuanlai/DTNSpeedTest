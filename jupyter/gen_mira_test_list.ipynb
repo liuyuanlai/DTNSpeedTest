{
 "cells": [
  {
   "cell_type": "code",
   "execution_count": 3,
   "metadata": {},
   "outputs": [],
   "source": [
    "import random\n"
   ]
  },
  {
   "cell_type": "code",
   "execution_count": 5,
   "metadata": {},
   "outputs": [],
   "source": [
    "file = \"/global/cscratch1/sd/yuanlai/gf_test/alcf_files/gpfs2nullList\""
   ]
  },
  {
   "cell_type": "code",
   "execution_count": 4,
   "metadata": {},
   "outputs": [],
   "source": [
    "with open(file, \"w\") as f:\n",
    "    for i in range(4000):\n",
    "        dtn = i % 12 + 1\n",
    "        source = \"ftp//miradtn\" + str(dtn).zfill(2) + \":12334/projects/AMASE/lyl/read_test_files/file\" + str(i)\n",
    "        des = \"ftp://miradtn\" + str(dtn).zfill(2) + \":12334/dev/null\"\n",
    "        line = source + \" \" + des + '\\n'\n",
    "        f.write(line)\n",
    "f.close()"
   ]
  },
  {
   "cell_type": "code",
   "execution_count": 6,
   "metadata": {},
   "outputs": [],
   "source": [
    "with open(file, \"w\") as f:\n",
    "    for i in range(4000):\n",
    "        dtn = i % 12 + 1\n",
    "        source = \"alcf#dtn_mira/projects/AMASE/lyl/read_test_files/file\" + str(i)\n",
    "        des = \"alcf#dtn_mira/dev/null\"\n",
    "        line = source + \" \" + des + '\\n'\n",
    "        f.write(line)\n",
    "f.close()"
   ]
  },
  {
   "cell_type": "code",
   "execution_count": 8,
   "metadata": {},
   "outputs": [],
   "source": [
    "file = \"/global/cscratch1/sd/yuanlai/gf_test/write_test_files/fromZeroList.txt\""
   ]
  },
  {
   "cell_type": "code",
   "execution_count": 10,
   "metadata": {},
   "outputs": [],
   "source": [
    "i = 0\n",
    "count = 0\n",
    "with open(file, \"w\") as f:\n",
    "    while count < 59581:\n",
    "        dtn = i % 10 + 1\n",
    "        if dtn == 3:\n",
    "            i += 1\n",
    "            continue\n",
    "        source = \"ftp://dtn\" + str(dtn).zfill(2) + \":12334/dev/zero\"\n",
    "        des = \"ftp://dtn\" + str(dtn).zfill(2) + \":12334/global/cscratch1/sd/yuanlai/gf_test/write_test_results/file\" + str(count)\n",
    "        line = source + \" \" + des + '\\n'\n",
    "        i += 1\n",
    "        count += 1\n",
    "        f.write(line)\n",
    "f.close()"
   ]
  },
  {
   "cell_type": "code",
   "execution_count": 3,
   "metadata": {},
   "outputs": [],
   "source": [
    "file = \"/global/cscratch1/sd/yuanlai/gf_test/write_test_results/miraFromZeroList.txt\""
   ]
  },
  {
   "cell_type": "code",
   "execution_count": 7,
   "metadata": {},
   "outputs": [],
   "source": [
    "\n",
    "count = 0\n",
    "with open(file, \"w\") as f:\n",
    "    while count < 59581:\n",
    "        dtn = count % 12 + 1\n",
    "        source = \"ftp://miradtn\" + str(dtn).zfill(2) + \":50005/dev/zero\"\n",
    "        des = \"ftp://miradtn\" + str(dtn).zfill(2) + \":50005/projects/AMASE/lyl/write_test_files/file\" + str(count)\n",
    "        line = source + \" \" + des + '\\n'\n",
    "        count += 1\n",
    "        f.write(line)\n",
    "f.close()"
   ]
  },
  {
   "cell_type": "code",
   "execution_count": 25,
   "metadata": {},
   "outputs": [],
   "source": [
    "file = \"/global/cscratch1/sd/yuanlai/gf_test/write_test_results/miraFromZeroList-alias_mode.txt\""
   ]
  },
  {
   "cell_type": "code",
   "execution_count": 26,
   "metadata": {},
   "outputs": [],
   "source": [
    "count = 0\n",
    "with open(file, \"w\") as f:\n",
    "    while count < 59581:\n",
    "        dtn = count % 12 + 1\n",
    "        source = \"ftp:///dev/zero\"\n",
    "        des = \"ftp:///projects/AMASE/lyl/write_test_files/file\" + str(count)\n",
    "        line = source + \" \" + des + '\\n'\n",
    "        count += 1\n",
    "        f.write(line)\n",
    "f.close()"
   ]
  },
  {
   "cell_type": "code",
   "execution_count": 21,
   "metadata": {},
   "outputs": [],
   "source": [
    "file = \"/global/cscratch1/sd/yuanlai/gf_test/new_test_files_all_ost/toLustreListNew\""
   ]
  },
  {
   "cell_type": "code",
   "execution_count": 22,
   "metadata": {},
   "outputs": [],
   "source": [
    "random.seed(1)\n",
    "with open(file, \"w\") as f:\n",
    "    for i in range(59581):\n",
    "        dtn = i % 10 + 1\n",
    "        while dtn == 3:\n",
    "            dtn = random.randint(1, 10)\n",
    "        source = \"ftp://dtn\" + str(dtn).zfill(2) + \":12334/global/cscratch1/sd/yuanlai/gf_test/new_test_files_all_ost/file\" + str(i)\n",
    "        des = \"ftp://dtn\" + str(dtn).zfill(2) + \":12334/global/cscratch1/sd/yuanlai/gf_test/lustre2lustre_test_files/file\" + str(i)\n",
    "        #des = \"ftp://dtn\" + str(dtn).zfill(2) + \":12334/dev/null\"\n",
    "        line = source + \" \" + des + '\\n'\n",
    "        f.write(line)\n",
    "f.close()"
   ]
  },
  {
   "cell_type": "code",
   "execution_count": 4,
   "metadata": {},
   "outputs": [],
   "source": [
    "file = \"/global/cscratch1/sd/yuanlai/gf_test/new_test_files_all_ost/toMiraNullList.txt\""
   ]
  },
  {
   "cell_type": "code",
   "execution_count": 7,
   "metadata": {},
   "outputs": [],
   "source": [
    "\n",
    "with open(file, \"w\") as f:\n",
    "    #for i in range(59581):\n",
    "    i, j = 0, 0\n",
    "    count = 0\n",
    "    while count < 59581:\n",
    "        dtn = i % 10 + 1\n",
    "        miradtn = j % 12 + 1\n",
    "        if dtn == 3:\n",
    "            i += 1\n",
    "            continue\n",
    "        source = \"ftp://dtn\" + str(dtn).zfill(2) + \":12334/global/cscratch1/sd/yuanlai/gf_test/new_test_files_all_ost/file\" + str(count)\n",
    "        #des = \"ftp://dtn\" + str(dtn).zfill(2) + \":12334/global/cscratch1/sd/yuanlai/gf_test/lustre2lustre_test_files/file\" + str(i)\n",
    "        des = \"ftp://miradtn\" + str(miradtn).zfill(2) + \".alcf.anl.gov:50005/dev/null\"\n",
    "        line = source + \" \" + des + '\\n'\n",
    "        i += 1\n",
    "        j += 1\n",
    "        count += 1\n",
    "        f.write(line)\n",
    "f.close()"
   ]
  },
  {
   "cell_type": "code",
   "execution_count": 7,
   "metadata": {},
   "outputs": [],
   "source": [
    "fn1 = \"/global/cscratch1/sd/yuanlai/gf_test/new_test_files_all_ost/toNullList-bysize.txt\"\n",
    "fn2 = \"/global/cscratch1/sd/yuanlai/gf_test/new_test_files_all_ost/smallfile_size.txt\""
   ]
  },
  {
   "cell_type": "code",
   "execution_count": 8,
   "metadata": {},
   "outputs": [],
   "source": [
    "f2 = open(fn2, \"r\")\n",
    "with open(fn1, \"w\") as f1:\n",
    "    #for i in range(59581):\n",
    "    i = 0\n",
    "    count = 0\n",
    "    while count < 59581:\n",
    "        dtn = i % 10 + 1\n",
    "        if dtn == 3:\n",
    "            i += 1\n",
    "            continue\n",
    "        line = f2.readline().rstrip('\\n')\n",
    "        source = \"ftp://dtn\" + str(dtn).zfill(2) + \":12334\" + line\n",
    "        #des = \"ftp://dtn\" + str(dtn).zfill(2) + \":12334/global/cscratch1/sd/yuanlai/gf_test/lustre2lustre_test_files/file\" + str(i)\n",
    "        des = \"ftp://dtn\" + str(dtn).zfill(2) + \":12334/dev/null\"\n",
    "        line = source + \" \" + des + '\\n'\n",
    "        i += 1\n",
    "        count += 1\n",
    "        \n",
    "        f1.write(line)\n",
    "f2.close()"
   ]
  },
  {
   "cell_type": "code",
   "execution_count": 16,
   "metadata": {},
   "outputs": [],
   "source": [
    "fn1 = \"/global/cscratch1/sd/yuanlai/gf_test/new_test_files_all_ost/toNullList-bysize-alias_mode.txt\"\n",
    "fn2 = \"/global/cscratch1/sd/yuanlai/gf_test/new_test_files_all_ost/smallfile_size.txt\""
   ]
  },
  {
   "cell_type": "code",
   "execution_count": null,
   "metadata": {},
   "outputs": [],
   "source": [
    "f2 = open(fn2, \"r\")\n",
    "with open(fn1, \"w\") as f1:\n",
    "    #for i in range(59581):\n",
    "    count = 0\n",
    "    while count < 59581:\n",
    "        line = f2.readline().rstrip('\\n')\n",
    "        source = \"ftp:///\" + line\n",
    "        #des = \"ftp://dtn\" + str(dtn).zfill(2) + \":12334/global/cscratch1/sd/yuanlai/gf_test/lustre2lustre_test_files/file\" + str(i)\n",
    "        des = \"ftp:///dev/null\"\n",
    "        line = source + \" \" + des + '\\n'\n",
    "        count += 1\n",
    "        \n",
    "        f1.write(line)\n",
    "f2.close()"
   ]
  },
  {
   "cell_type": "code",
   "execution_count": 8,
   "metadata": {},
   "outputs": [],
   "source": [
    "fn1 = \"/global/cscratch1/sd/yuanlai/gf_test/new_test_files_all_ost/toMiraNullList-bysize.txt\"\n",
    "fn2 = \"/global/cscratch1/sd/yuanlai/gf_test/new_test_files_all_ost/smallfile_size.txt\""
   ]
  },
  {
   "cell_type": "code",
   "execution_count": 11,
   "metadata": {},
   "outputs": [],
   "source": [
    "f2 = open(fn2, \"r\")\n",
    "with open(fn1, \"w\") as f1:\n",
    "    #for i in range(59581):\n",
    "    i,j = 0, 0\n",
    "    count = 0\n",
    "    while count < 59581:\n",
    "        miradtn = j % 12 + 1\n",
    "        dtn = i % 10 + 1\n",
    "        if dtn == 3:\n",
    "            i += 1\n",
    "            continue\n",
    "        line = f2.readline().rstrip('\\n')\n",
    "        source = \"ftp://dtn\" + str(dtn).zfill(2) + \":12334\" + line\n",
    "        #des = \"ftp://dtn\" + str(dtn).zfill(2) + \":12334/global/cscratch1/sd/yuanlai/gf_test/lustre2lustre_test_files/file\" + str(i)\n",
    "        des = \"ftp://miradtn\" + str(miradtn).zfill(2) + \".alcf.anl.gov:50005/dev/null\"\n",
    "        line = source + \" \" + des + '\\n'\n",
    "        i += 1\n",
    "        j += 1\n",
    "        count += 1\n",
    "        f1.write(line)\n",
    "f2.close()"
   ]
  },
  {
   "cell_type": "code",
   "execution_count": 35,
   "metadata": {},
   "outputs": [],
   "source": [
    "fn1 = \"/global/cscratch1/sd/yuanlai/gf_test/new_test_files_all_ost/toMiraNullList-bysize-alias_mode.txt\"\n",
    "fn2 = \"/global/cscratch1/sd/yuanlai/gf_test/new_test_files_all_ost/smallfile_size.txt\""
   ]
  },
  {
   "cell_type": "code",
   "execution_count": 36,
   "metadata": {},
   "outputs": [],
   "source": [
    "f2 = open(fn2, \"r\")\n",
    "with open(fn1, \"w\") as f1:\n",
    "    #for i in range(59581):\n",
    "    count = 0\n",
    "    while count < 59581:\n",
    "        line = f2.readline().rstrip('\\n')\n",
    "        source = \"ftp://\" + line\n",
    "        #des = \"ftp://dtn\" + str(dtn).zfill(2) + \":12334/global/cscratch1/sd/yuanlai/gf_test/lustre2lustre_test_files/file\" + str(i)\n",
    "        des = \"ftp:///dev/null\"\n",
    "        line = source + \" \" + des + '\\n'\n",
    "        count += 1\n",
    "        f1.write(line)\n",
    "f2.close()"
   ]
  },
  {
   "cell_type": "code",
   "execution_count": 15,
   "metadata": {},
   "outputs": [],
   "source": [
    "fn1 = \"/global/cscratch1/sd/yuanlai/gf_test/new_test_files_all_ost/toMiraFileList-bysize-alias_mode.txt\"\n",
    "fn2 = \"/global/cscratch1/sd/yuanlai/gf_test/new_test_files_all_ost/smallfile_size.txt\""
   ]
  },
  {
   "cell_type": "code",
   "execution_count": 16,
   "metadata": {},
   "outputs": [],
   "source": [
    "f2 = open(fn2, \"r\")\n",
    "with open(fn1, \"w\") as f1:\n",
    "    #for i in range(59581):\n",
    "    count = 0\n",
    "    while count < 59581:\n",
    "        line = f2.readline().rstrip('\\n')\n",
    "        source = \"ftp://\" + line\n",
    "        #des = \"ftp://dtn\" + str(dtn).zfill(2) + \":12334/global/cscratch1/sd/yuanlai/gf_test/lustre2lustre_test_files/file\" + str(i)\n",
    "        des = \"ftp:///projects/AMASE/lyl/new_test_files_all_ost/\"+line.split(\"/\")[-1]\n",
    "        line = source + \" \" + des + '\\n'\n",
    "        count += 1\n",
    "        f1.write(line)\n",
    "f2.close()"
   ]
  },
  {
   "cell_type": "code",
   "execution_count": 9,
   "metadata": {},
   "outputs": [],
   "source": [
    "fn1 = \"/global/cscratch1/sd/yuanlai/gf_test/new_test_files_same_size_128/toMiraFileList-alias_mode.txt\""
   ]
  },
  {
   "cell_type": "code",
   "execution_count": 10,
   "metadata": {},
   "outputs": [],
   "source": [
    "with open(fn1, \"w\") as f1:\n",
    "    #for i in range(59581):\n",
    "    count = 0\n",
    "    while count < 128:\n",
    "        source = \"ftp:///global/cscratch1/sd/yuanlai/gf_test/new_test_files_same_size_128/file\" + str(count)\n",
    "        #des = \"ftp://dtn\" + str(dtn).zfill(2) + \":12334/global/cscratch1/sd/yuanlai/gf_test/lustre2lustre_test_files/file\" + str(i)\n",
    "        des = \"ftp:///projects/AMASE/lyl/new_test_files_same_size_128/file\"+str(count)\n",
    "        line = source + \" \" + des + '\\n'\n",
    "        count += 1\n",
    "        f1.write(line)"
   ]
  },
  {
   "cell_type": "code",
   "execution_count": 13,
   "metadata": {},
   "outputs": [],
   "source": [
    "fn1 = \"/global/cscratch1/sd/yuanlai/gf_test/new_test_files_all_ost/toNerscFileList-bysize-alias_mode.txt\"\n",
    "fn2 = \"/global/cscratch1/sd/yuanlai/gf_test/new_test_files_all_ost/smallfile_size.txt\""
   ]
  },
  {
   "cell_type": "code",
   "execution_count": 14,
   "metadata": {},
   "outputs": [],
   "source": [
    "f2 = open(fn2, \"r\")\n",
    "with open(fn1, \"w\") as f1:\n",
    "    #for i in range(59581):\n",
    "    count = 0\n",
    "    while count < 59581:\n",
    "        line = f2.readline().rstrip('\\n')\n",
    "        dst = \"ftp://\" + line\n",
    "        #des = \"ftp://dtn\" + str(dtn).zfill(2) + \":12334/global/cscratch1/sd/yuanlai/gf_test/lustre2lustre_test_files/file\" + str(i)\n",
    "        source = \"ftp:///projects/AMASE/lyl/new_test_files_all_ost/\"+line.split(\"/\")[-1]\n",
    "        line = source + \" \" + dst + '\\n'\n",
    "        count += 1\n",
    "        f1.write(line)\n",
    "f2.close()"
   ]
  },
  {
   "cell_type": "code",
   "execution_count": 19,
   "metadata": {},
   "outputs": [],
   "source": [
    "file = \"/global/cscratch1/sd/yuanlai/gf_test/write_test_files/h2hList.txt\""
   ]
  },
  {
   "cell_type": "code",
   "execution_count": 20,
   "metadata": {},
   "outputs": [],
   "source": [
    "random.seed(1)\n",
    "with open(file, \"w\") as f:\n",
    "    #for i in range(59581):\n",
    "    i = 0\n",
    "    count = 0\n",
    "    while count < 4000:\n",
    "            \n",
    "        dtn = i % 10 + 1\n",
    "        if dtn == 3:\n",
    "            i += 1\n",
    "            continue\n",
    "        source = \"ftp://dtn\" + str(dtn).zfill(2) + \":12334/dev/zero\"\n",
    "        des = \"ftp://dtn\" + str(dtn).zfill(2) + \":12334/global/cscratch1/sd/yuanlai/gf_test/write_test_results/file\" + str(count)\n",
    "        #des = \"ftp://dtn\" + str(dtn).zfill(2) + \":12334/global/cscratch1/sd/yuanlai/gf_test/lustre2lustre_test_files/file\" + str(i)\n",
    "        \n",
    "        line = source + \" \" + des + '\\n'\n",
    "        f.write(line)\n",
    "        i += 1\n",
    "        count += 1\n",
    "f.close()"
   ]
  },
  {
   "cell_type": "code",
   "execution_count": 2,
   "metadata": {},
   "outputs": [],
   "source": [
    "pre = \"/global/cscratch1/sd/yuanlai/gf_test/new_test_files_vary_size/\"\n",
    "for i in [1, 20, 50, 100, 200, 500, 1000, 2000, 5000, 10000, 20000]:\n",
    "    f = open(pre+str(i)+\"/toMiraList.txt\", \"w\")\n",
    "    for j in range(i):\n",
    "        source = \"ftp://dtn10:12334/global/cscratch1/sd/yuanlai/gf_test/new_test_files_vary_size/\"+str(i)+\"/file\"+str(j)\n",
    "        end = \"ftp://miradtn12.alcf.anl.gov:50005/projects/AMASE/lyl/new_test_files_vary_size/\"+str(i)+\"/file\"+str(j)\n",
    "        f.write(source + \" \" + end + \"\\n\")\n",
    "    f.close()"
   ]
  },
  {
   "cell_type": "code",
   "execution_count": 6,
   "metadata": {},
   "outputs": [],
   "source": [
    "pre = \"/global/cscratch1/sd/yuanlai/gf_test/new_test_files_vary_size/\"\n",
    "for i in [1, 20, 50, 100, 200, 500, 1000, 2000, 5000, 10000, 20000]:\n",
    "    f = open(pre+str(i)+\"/toMiraList-alias_mode.txt\", \"w\")\n",
    "    for j in range(i):\n",
    "        source = \"ftp:///global/cscratch1/sd/yuanlai/gf_test/new_test_files_vary_size/\"+str(i)+\"/file\"+str(j)\n",
    "        end = \"ftp:///projects/AMASE/lyl/new_test_files_vary_size/\"+str(i)+\"/file\"+str(j)\n",
    "        f.write(source + \" \" + end + \"\\n\")\n",
    "    f.close()"
   ]
  },
  {
   "cell_type": "code",
   "execution_count": 19,
   "metadata": {},
   "outputs": [],
   "source": [
    "pre = \"/global/cscratch1/sd/yuanlai/gf_test/new_test_files_vary_size_5G/\"\n",
    "for i in [1, 20, 50, 100, 200, 500, 1000, 2000, 5000, 10000, 20000, 50000]:\n",
    "    f = open(pre+str(i)+\"/toMiraList-alias_mode.txt\", \"w\")\n",
    "    for j in range(i):\n",
    "        source = \"ftp:///global/cscratch1/sd/yuanlai/gf_test/new_test_files_vary_size_5G/\"+str(i)+\"/file\"+str(j)\n",
    "        end = \"ftp:///projects/AMASE/lyl/new_test_files_vary_size_5G/\"+str(i)+\"/file\"+str(j)\n",
    "        f.write(source + \" \" + end + \"\\n\")\n",
    "    f.close()"
   ]
  },
  {
   "cell_type": "code",
   "execution_count": 3,
   "metadata": {},
   "outputs": [],
   "source": [
    "pre = \"/global/cscratch1/sd/yuanlai/gf_test/new_test_files_vary_size/\"\n",
    "for i in [1, 20, 50, 100, 200, 500, 1000, 2000, 5000, 10000, 20000]:\n",
    "    f = open(pre+str(i)+\"/MiratoNerscFileList-alias_mode.txt\", \"w\")\n",
    "    for j in range(i):\n",
    "        end = \"ftp:///global/cscratch1/sd/yuanlai/gf_test/new_test_files_vary_size/\"+str(i)+\"/file\"+str(j)\n",
    "        source = \"ftp:///projects/AMASE/lyl/new_test_files_vary_size/\"+str(i)+\"/file\"+str(j)\n",
    "        f.write(source + \" \" + end + \"\\n\")\n",
    "    f.close()"
   ]
  },
  {
   "cell_type": "code",
   "execution_count": 20,
   "metadata": {},
   "outputs": [],
   "source": [
    "pre = \"/global/cscratch1/sd/yuanlai/gf_test/new_test_files_vary_size_5G/\"\n",
    "for i in [1, 20, 50, 100, 200, 500, 1000, 2000, 5000, 10000, 20000, 50000]:\n",
    "    f = open(pre+str(i)+\"/toNerscNullList-alias_mode.txt\", \"w\")\n",
    "    for j in range(i):\n",
    "        source = \"ftp:///global/cscratch1/sd/yuanlai/gf_test/new_test_files_vary_size_5G/\"+str(i)+\"/file\"+str(j)\n",
    "        end = \"ftp:///dev/null\"\n",
    "        f.write(source + \" \" + end + \"\\n\")\n",
    "    f.close()"
   ]
  },
  {
   "cell_type": "code",
   "execution_count": 2,
   "metadata": {},
   "outputs": [],
   "source": [
    "pre = \"/global/cscratch1/sd/yuanlai/gf_test/new_test_files_vary_size/\"\n",
    "for i in [1, 20, 50, 100, 200, 500, 1000, 2000, 5000, 10000, 20000]:\n",
    "    f = open(pre+str(i)+\"/MiratoNullList-alias_mode.txt\", \"w\")\n",
    "    for j in range(i):\n",
    "        source = \"ftp:///projects/AMASE/lyl/new_test_files_vary_size/\"+str(i)+\"/file\"+str(j)\n",
    "        end = \"ftp:///dev/null\"\n",
    "        f.write(source + \" \" + end + \"\\n\")\n",
    "    f.close()"
   ]
  },
  {
   "cell_type": "code",
   "execution_count": 1,
   "metadata": {},
   "outputs": [],
   "source": [
    "pre = \"/global/cscratch1/sd/yuanlai/gf_test/new_test_files_vary_size/\"\n",
    "for i in [1, 20, 50, 100, 200, 500, 1000, 2000, 5000, 10000]:\n",
    "    f = open(pre+str(i)+\"/toNerscGPFSList.txt\", \"w\")\n",
    "    for j in range(i):\n",
    "        source = \"ftp://dtn10:12334/global/cscratch1/sd/yuanlai/gf_test/new_test_files_vary_size/\"+str(i)+\"/file\"+str(j)\n",
    "        end = \"ftp://dtn10:12334/global/project/projectdirs/m2930/lyl/gf_test/new_test_files_vary_size/\"+str(i)+\"/file\"+str(j)\n",
    "        f.write(source + \" \" + end + \"\\n\")\n",
    "    f.close()"
   ]
  },
  {
   "cell_type": "code",
   "execution_count": 18,
   "metadata": {},
   "outputs": [],
   "source": [
    "pre = \"/global/cscratch1/sd/yuanlai/gf_test/linear_test_Nzero2Anull_list/\"\n",
    "#for i in [1, 20, 50, 100, 200, 500, 1000, 2000, 5000, 10000]:\n",
    "for i in [20000, 50000]:\n",
    "    f = open(pre+str(i)+\"_toMiraNullList.txt\", \"w\")\n",
    "    for j in range(i):\n",
    "        source = \"ftp:///dev/zero\"\n",
    "        end = \"ftp:///dev/null\"\n",
    "        f.write(source + \" \" + end + \"\\n\")\n",
    "    f.close()"
   ]
  },
  {
   "cell_type": "code",
   "execution_count": 3,
   "metadata": {},
   "outputs": [],
   "source": [
    "pre = \"/global/cscratch1/sd/yuanlai/gf_test/mira_linear_test_write/\"\n",
    "for i in [1, 20, 50, 100, 200, 500, 1000, 2000, 5000, 10000]:\n",
    "    f = open(pre+str(i)+\"_MiraZero2fileList.txt\", \"w\")\n",
    "    for j in range(i):\n",
    "        source = \"ftp:///dev/zero\"\n",
    "        end = \"ftp:///projects/AMASE/lyl/mira_linear_test_write/file\" + str(j)\n",
    "        f.write(source + \" \" + end + \"\\n\")\n",
    "    f.close()"
   ]
  },
  {
   "cell_type": "code",
   "execution_count": 14,
   "metadata": {},
   "outputs": [],
   "source": [
    "#pre = \"/home/cc/test_files_2000/\"\n",
    "#for i in [1, 20, 50, 100, 200, 500, 1000, 2000, 5000, 10000, 20000]:\n",
    "\n",
    "f = open(\"toMiraList.txt\", \"w\")\n",
    "i = 10000\n",
    "for j in range(i):\n",
    "    source = \"ftp://129.114.109.111:12334/home/cc/test_files_10000/file\" + str(j)\n",
    "    end = \"ftp://miradtn12.alcf.anl.gov:50005/projects/AMASE/lyl/from_chame/file\" + str(j)\n",
    "    f.write(source + \" \" + end + \"\\n\")\n",
    "f.close()"
   ]
  },
  {
   "cell_type": "code",
   "execution_count": 18,
   "metadata": {},
   "outputs": [],
   "source": [
    "f = open(\"toMiraList-alias_mode.txt\", \"w\")\n",
    "i = 10000\n",
    "for j in range(i):\n",
    "    source = \"ftp:///home/cc/test_files_10000/file\" + str(j)\n",
    "    end = \"ftp:///projects/AMASE/lyl/from_chame/file\" + str(j)\n",
    "    f.write(source + \" \" + end + \"\\n\")\n",
    "f.close()"
   ]
  },
  {
   "cell_type": "code",
   "execution_count": 23,
   "metadata": {},
   "outputs": [],
   "source": [
    "f = open(\"toMiraList-alias_mode.txt\", \"w\")\n",
    "i = 20\n",
    "for j in range(i):\n",
    "    source = \"ftp:///home/cc/20_1G/file\" + str(j)\n",
    "    end = \"ftp:///projects/AMASE/lyl/from_chame/file\" + str(j)\n",
    "    f.write(source + \" \" + end + \"\\n\")\n",
    "f.close()"
   ]
  },
  {
   "cell_type": "code",
   "execution_count": 24,
   "metadata": {},
   "outputs": [],
   "source": [
    "f = open(\"toCloudList-alias_mode.txt\", \"w\")\n",
    "i = 20\n",
    "for j in range(i):\n",
    "    source = \"ftp:///projects/AMASE/lyl/from_chame/file\" + str(j)\n",
    "    end = \"ftp:///home/cc/20_1G/file\" + str(j)\n",
    "    f.write(source + \" \" + end + \"\\n\")\n",
    "f.close()"
   ]
  },
  {
   "cell_type": "code",
   "execution_count": 20,
   "metadata": {},
   "outputs": [],
   "source": [
    "f = open(\"toNullList-alias_mode.txt\", \"w\")\n",
    "i = 10000\n",
    "for j in range(i):\n",
    "    source = \"ftp:///home/cc/test_files_10000/file\" + str(j)\n",
    "    end = \"ftp:///dev/null\"\n",
    "    f.write(source + \" \" + end + \"\\n\")\n",
    "f.close()"
   ]
  },
  {
   "cell_type": "code",
   "execution_count": null,
   "metadata": {},
   "outputs": [],
   "source": []
  }
 ],
 "metadata": {
  "kernelspec": {
   "display_name": "Python [conda env:3.6-anaconda-5.2]",
   "language": "python",
   "name": "conda-env-3.6-anaconda-5.2-py"
  },
  "language_info": {
   "codemirror_mode": {
    "name": "ipython",
    "version": 3
   },
   "file_extension": ".py",
   "mimetype": "text/x-python",
   "name": "python",
   "nbconvert_exporter": "python",
   "pygments_lexer": "ipython3",
   "version": "3.6.5"
  }
 },
 "nbformat": 4,
 "nbformat_minor": 2
}

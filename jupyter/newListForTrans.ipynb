{
 "cells": [
  {
   "cell_type": "code",
   "execution_count": 7,
   "metadata": {},
   "outputs": [],
   "source": [
    "import random"
   ]
  },
  {
   "cell_type": "code",
   "execution_count": 2,
   "metadata": {},
   "outputs": [],
   "source": [
    "oldFilePath = \"/global/cscratch1/sd/yuanlai/gf_test/read_test_files/l2gList.txt\"\n",
    "newFilePath = \"/global/cscratch1/sd/yuanlai/gf_test/read_test_files/l2gDiffDTNList.txt\""
   ]
  },
  {
   "cell_type": "code",
   "execution_count": 14,
   "metadata": {},
   "outputs": [],
   "source": [
    "newDesPart = \"/global/project/projectdirs/m2930/lyl/gf_test/l2g_test_files/file\""
   ]
  },
  {
   "cell_type": "code",
   "execution_count": 12,
   "metadata": {},
   "outputs": [],
   "source": [
    "f_new = open(newFilePath, 'w')\n",
    "with open(oldFilePath, 'r') as f_old:\n",
    "    for line in f_old:\n",
    "        #line = f_old.readline()\n",
    "        lineSplit = line.split(' ')\n",
    "        newDesSplit = lineSplit[0].split('/')\n",
    "        newDesSplit[-2] = \"transfer_test\"\n",
    "        newDes = '/'.join(newDesSplit)\n",
    "        newLine = lineSplit[0] + \" \" + newDes + \"\\n\"\n",
    "        f_new.writelines(newLine)\n",
    "        #print(newLine)\n",
    "f_new.close()"
   ]
  },
  {
   "cell_type": "code",
   "execution_count": 15,
   "metadata": {},
   "outputs": [],
   "source": [
    "f_new = open(newFilePath, 'w')\n",
    "i = 0\n",
    "with open(oldFilePath, 'r') as f_old:\n",
    "    for line in f_old:\n",
    "        #line = f_old.readline()\n",
    "        lineSplit = line.split(' ')\n",
    "        newDes = lineSplit[0].split(\"12334\")[0] + \"12335\" +  newDesPart + str(i)\n",
    "        i += 1\n",
    "        newLine = lineSplit[0] + \" \" + newDes + \"\\n\"\n",
    "        f_new.writelines(newLine)\n",
    "        #print(newLine)\n",
    "f_new.close()"
   ]
  },
  {
   "cell_type": "code",
   "execution_count": 14,
   "metadata": {},
   "outputs": [],
   "source": [
    "f_new = open(newFilePath, 'w')\n",
    "nodeList = ['01', '02', '03', '04', '05', '06', '07', '08', '09', '10']\n",
    "with open(oldFilePath, 'r') as f_old:\n",
    "    for line in f_old:\n",
    "        #line = f_old.readline()\n",
    "        lineSplit = line.split(' ')\n",
    "        des = lineSplit[0]\n",
    "        desNumStr = des[9:11]\n",
    "        desNum = int(desNumStr)\n",
    "        newDesNum = random.randint(0, 9)\n",
    "        while newDesNum == 2 or newDesNum == desNum - 1:\n",
    "            newDesNum = random.randint(0, 9)\n",
    "        newDesNumStr = nodeList[newDesNum]\n",
    "        newDes = des[:9] + newDesNumStr + des[11:]\n",
    "        newLine = lineSplit[0] + \" \" + newDes + \"\\n\"\n",
    "        f_new.writelines(newLine)\n",
    "        #print(desNumStr + \" \" + newDesNumStr)\n",
    "f_new.close()"
   ]
  },
  {
   "cell_type": "code",
   "execution_count": null,
   "metadata": {},
   "outputs": [],
   "source": []
  }
 ],
 "metadata": {
  "kernelspec": {
   "display_name": "Python [conda env:3.6-anaconda-4.4]",
   "language": "python",
   "name": "conda-env-3.6-anaconda-4.4-py"
  },
  "language_info": {
   "codemirror_mode": {
    "name": "ipython",
    "version": 3
   },
   "file_extension": ".py",
   "mimetype": "text/x-python",
   "name": "python",
   "nbconvert_exporter": "python",
   "pygments_lexer": "ipython3",
   "version": "3.6.1"
  }
 },
 "nbformat": 4,
 "nbformat_minor": 2
}

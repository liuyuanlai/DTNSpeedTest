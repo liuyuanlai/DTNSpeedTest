{
 "cells": [
  {
   "cell_type": "code",
   "execution_count": 1,
   "metadata": {},
   "outputs": [],
   "source": [
    "import globus_sdk"
   ]
  },
  {
   "cell_type": "code",
   "execution_count": 2,
   "metadata": {},
   "outputs": [
    {
     "name": "stdout",
     "output_type": "stream",
     "text": [
      "Please go to this URL and login: https://auth.globus.org/v2/oauth2/authorize?client_id=ac34a1cf-7412-4f43-a693-935d7d09fd85&redirect_uri=https%3A%2F%2Fauth.globus.org%2Fv2%2Fweb%2Fauth-code&scope=openid+profile+email+urn%3Aglobus%3Aauth%3Ascope%3Atransfer.api.globus.org%3Aall&state=_default&response_type=code&code_challenge=EcYbtjzatRY5toduM9y2ccHTQfPYmMGZUbSCdW-E3e0&code_challenge_method=S256&access_type=online\n",
      "Please enter the code you get after login here: NWxdVoNrLzNPJJwLlGRZ9FTHQvwdFl\n"
     ]
    }
   ],
   "source": [
    "CLIENT_ID = 'ac34a1cf-7412-4f43-a693-935d7d09fd85'\n",
    "\n",
    "client = globus_sdk.NativeAppAuthClient(CLIENT_ID)\n",
    "client.oauth2_start_flow()\n",
    "\n",
    "authorize_url = client.oauth2_get_authorize_url()\n",
    "print('Please go to this URL and login: {0}'.format(authorize_url))\n",
    "\n",
    "# this is to work on Python2 and Python3 -- you can just use raw_input() or\n",
    "# input() for your specific version\n",
    "get_input = getattr(__builtins__, 'raw_input', input)\n",
    "auth_code = get_input(\n",
    "    'Please enter the code you get after login here: ').strip()\n",
    "token_response = client.oauth2_exchange_code_for_tokens(auth_code)\n",
    "\n",
    "globus_auth_data = token_response.by_resource_server['auth.globus.org']\n",
    "globus_transfer_data = token_response.by_resource_server['transfer.api.globus.org']\n",
    "\n",
    "# most specifically, you want these tokens as strings\n",
    "AUTH_TOKEN = globus_auth_data['access_token']\n",
    "TRANSFER_TOKEN = globus_transfer_data['access_token']"
   ]
  },
  {
   "cell_type": "code",
   "execution_count": 3,
   "metadata": {},
   "outputs": [
    {
     "name": "stdout",
     "output_type": "stream",
     "text": [
      "My Endpoints:\n",
      "[18c03e00-8157-11e8-94e4-0a6d4e044368] nersc_transfer\n"
     ]
    }
   ],
   "source": [
    "# a GlobusAuthorizer is an auxiliary object we use to wrap the token. In\n",
    "# more advanced scenarios, other types of GlobusAuthorizers give us\n",
    "# expressive power\n",
    "authorizer = globus_sdk.AccessTokenAuthorizer(TRANSFER_TOKEN)\n",
    "tc = globus_sdk.TransferClient(authorizer=authorizer)\n",
    "\n",
    "# high level interface; provides iterators for list responses\n",
    "print(\"My Endpoints:\")\n",
    "for ep in tc.endpoint_search(filter_scope=\"my-endpoints\"):\n",
    "    print(\"[{}] {}\".format(ep[\"id\"], ep[\"display_name\"]))"
   ]
  },
  {
   "cell_type": "code",
   "execution_count": 4,
   "metadata": {},
   "outputs": [
    {
     "name": "stdout",
     "output_type": "stream",
     "text": [
      "Please go to this URL and login: https://auth.globus.org/v2/oauth2/authorize?client_id=ac34a1cf-7412-4f43-a693-935d7d09fd85&redirect_uri=https%3A%2F%2Fauth.globus.org%2Fv2%2Fweb%2Fauth-code&scope=openid+profile+email+urn%3Aglobus%3Aauth%3Ascope%3Atransfer.api.globus.org%3Aall&state=_default&response_type=code&code_challenge=Dm1eQCJg4l7mTr5DUYMYMvDHGAe8j_owbbYeYdbH1Q8&code_challenge_method=S256&access_type=online\n",
      "Please enter the code here: vvmSPqjVOtXrUXFDltxHNe4yzpsj4B\n"
     ]
    }
   ],
   "source": [
    "client = globus_sdk.NativeAppAuthClient(CLIENT_ID)\n",
    "client.oauth2_start_flow()\n",
    "\n",
    "print('Please go to this URL and login: {0}'\n",
    "      .format(client.oauth2_get_authorize_url()))\n",
    "\n",
    "get_input = getattr(__builtins__, 'raw_input', input)\n",
    "auth_code = get_input('Please enter the code here: ').strip()\n",
    "token_response = client.oauth2_exchange_code_for_tokens(auth_code)"
   ]
  },
  {
   "cell_type": "code",
   "execution_count": 5,
   "metadata": {},
   "outputs": [
    {
     "data": {
      "text/plain": [
       "\"{'auth.globus.org': {'scope': 'profile openid email', 'access_token': 'Ag2xJxD9rQp2bKE7P1DBPGzvQ0nWKbp16Jen6V9baJeV7xoJO2ikCDbvBY3g1DmmB7dGgrrzOnwXzdumqdDogIB3X6Uo6rQCMXKB', 'refresh_token': None, 'token_type': 'Bearer', 'expires_at_seconds': 1536084133, 'resource_server': 'auth.globus.org'}, 'transfer.api.globus.org': {'scope': 'urn:globus:auth:scope:transfer.api.globus.org:all', 'access_token': 'Agdm1yv4zE1qWVkX68N8lErV5Vkok1ka4549xNlo1XQQ7jaBMgiXCnNgWy6ekyVKY9qnvYgYgWMWeETgamEYotQB90', 'refresh_token': None, 'token_type': 'Bearer', 'expires_at_seconds': 1536084133, 'resource_server': 'transfer.api.globus.org'}}\""
      ]
     },
     "execution_count": 5,
     "metadata": {},
     "output_type": "execute_result"
    }
   ],
   "source": [
    "str(token_response.by_resource_server)"
   ]
  },
  {
   "cell_type": "code",
   "execution_count": 6,
   "metadata": {},
   "outputs": [
    {
     "name": "stdout",
     "output_type": "stream",
     "text": [
      "Please go to this URL and login: https://auth.globus.org/v2/oauth2/authorize?client_id=ac34a1cf-7412-4f43-a693-935d7d09fd85&redirect_uri=https%3A%2F%2Fauth.globus.org%2Fv2%2Fweb%2Fauth-code&scope=openid+profile+email+urn%3Aglobus%3Aauth%3Ascope%3Atransfer.api.globus.org%3Aall&state=_default&response_type=code&code_challenge=rAprN1ZYjBRXPoAMgGoJYrq6fB72nx9dL7vvnvgZ-5I&code_challenge_method=S256&access_type=offline\n",
      "Please enter the code here: CW2YSS5PmvObQK9W4DZQNnZckv5Mgi\n"
     ]
    }
   ],
   "source": [
    "client = globus_sdk.NativeAppAuthClient(CLIENT_ID)\n",
    "client.oauth2_start_flow(refresh_tokens=True)\n",
    "\n",
    "print('Please go to this URL and login: {0}'\n",
    "      .format(client.oauth2_get_authorize_url()))\n",
    "\n",
    "get_input = getattr(__builtins__, 'raw_input', input)\n",
    "auth_code = get_input('Please enter the code here: ').strip()\n",
    "token_response = client.oauth2_exchange_code_for_tokens(auth_code)"
   ]
  },
  {
   "cell_type": "code",
   "execution_count": 7,
   "metadata": {},
   "outputs": [
    {
     "data": {
      "text/plain": [
       "\"{'auth.globus.org': {'scope': 'profile openid email', 'access_token': 'AgrzV52KwnYx1e7gqwEOeyxNEePg11MdoPGGB5N0yzvx9zbrNmIXCP7m4ekKz2n48kWzn4ONrVv5wjflb9KVaHzNV3SWj2rulpMl', 'refresh_token': 'AgBJjwdrYwOMJ38aPo315myNp0NlDO3QOME3vvjOBqMGKNnl5T6Ua6867ge2j5ap268M46PNXplXMrkO1ao9ON73z2Po', 'token_type': 'Bearer', 'expires_at_seconds': 1536084168, 'resource_server': 'auth.globus.org'}, 'transfer.api.globus.org': {'scope': 'urn:globus:auth:scope:transfer.api.globus.org:all', 'access_token': 'AgVW1vP8X6Klq2VEp3eEK5EW2oQxlrvBn29Kkp4Ylz3d4NKYwpcbC7lQqGp528E18Xw7VpjJWX0zzkHlPYOp8HlbrX', 'refresh_token': 'Agmlk5Evd4ae1pBN5xwOOgN2Nx7jxqxmlW77XJlKk8peNWGBaNuDUjKvNjbDN3kwmQJk4NqdEd82Y1w329w554G5m0O4M', 'token_type': 'Bearer', 'expires_at_seconds': 1536084168, 'resource_server': 'transfer.api.globus.org'}}\""
      ]
     },
     "execution_count": 7,
     "metadata": {},
     "output_type": "execute_result"
    }
   ],
   "source": [
    "str(token_response.by_resource_server)"
   ]
  },
  {
   "cell_type": "code",
   "execution_count": 8,
   "metadata": {},
   "outputs": [],
   "source": [
    "# let's get stuff for the Globus Transfer service\n",
    "globus_transfer_data = token_response.by_resource_server['transfer.api.globus.org']\n",
    "# the refresh token and access token, often abbr. as RT and AT\n",
    "transfer_rt = globus_transfer_data['refresh_token']\n",
    "transfer_at = globus_transfer_data['access_token']\n",
    "expires_at_s = globus_transfer_data['expires_at_seconds']\n",
    "\n",
    "# Now we've got the data we need, but what do we do?\n",
    "# That \"GlobusAuthorizer\" from before is about to come to the rescue\n",
    "\n",
    "authorizer = globus_sdk.RefreshTokenAuthorizer(\n",
    "    transfer_rt, client, access_token=transfer_at, expires_at=expires_at_s)\n",
    "\n",
    "# and try using `tc` to make TransferClient calls. Everything should just\n",
    "# work -- for days and days, months and months, even years\n",
    "tc = globus_sdk.TransferClient(authorizer=authorizer)\n"
   ]
  },
  {
   "cell_type": "code",
   "execution_count": 9,
   "metadata": {},
   "outputs": [
    {
     "name": "stdout",
     "output_type": "stream",
     "text": [
      "My Last 25 Tasks:\n",
      "0f8b1c60-adab-11e8-823c-0a3b7ca8ce66 TRANSFER SUCCEEDED\n",
      "6dfa2608-ada9-11e8-823c-0a3b7ca8ce66 TRANSFER SUCCEEDED\n",
      "116fa09e-acd6-11e8-823b-0a3b7ca8ce66 TRANSFER SUCCEEDED\n",
      "8ce78f34-ac9a-11e8-823b-0a3b7ca8ce66 TRANSFER SUCCEEDED\n",
      "c8c9609c-a595-11e8-96f2-0a6d4e044368 TRANSFER SUCCEEDED\n",
      "839efa7c-a595-11e8-96f2-0a6d4e044368 TRANSFER SUCCEEDED\n",
      "5f5bb362-a595-11e8-96f2-0a6d4e044368 TRANSFER FAILED\n",
      "10a5ecec-a595-11e8-96f2-0a6d4e044368 TRANSFER FAILED\n",
      "afaccf50-a594-11e8-96f2-0a6d4e044368 TRANSFER FAILED\n",
      "8d6dd786-a594-11e8-96f2-0a6d4e044368 TRANSFER FAILED\n",
      "59ca257e-a594-11e8-96f2-0a6d4e044368 TRANSFER SUCCEEDED\n",
      "f8702dde-a55a-11e8-96f1-0a6d4e044368 TRANSFER SUCCEEDED\n",
      "d7b4b7b6-a557-11e8-96f1-0a6d4e044368 TRANSFER SUCCEEDED\n",
      "f9df9302-a556-11e8-96f1-0a6d4e044368 TRANSFER SUCCEEDED\n",
      "ee436076-a0d0-11e8-96e4-0a6d4e044368 TRANSFER SUCCEEDED\n",
      "86c0a09e-a0d0-11e8-96e4-0a6d4e044368 TRANSFER SUCCEEDED\n",
      "63ed47a0-8f52-11e8-9650-0a6d4e044368 TRANSFER SUCCEEDED\n",
      "a9ad1ef2-8eb2-11e8-9641-0a6d4e044368 TRANSFER SUCCEEDED\n",
      "c36b1112-8eaf-11e8-9641-0a6d4e044368 TRANSFER SUCCEEDED\n",
      "605a6b3e-8eac-11e8-9641-0a6d4e044368 TRANSFER SUCCEEDED\n",
      "9e525dc8-8ea4-11e8-9641-0a6d4e044368 TRANSFER SUCCEEDED\n",
      "0b65ead6-8c5e-11e8-95fe-0a6d4e044368 TRANSFER SUCCEEDED\n",
      "67d4a738-8c51-11e8-95fe-0a6d4e044368 TRANSFER SUCCEEDED\n",
      "a2719c0c-8c4c-11e8-95fe-0a6d4e044368 TRANSFER FAILED\n",
      "bffc10c2-8c4a-11e8-95fd-0a6d4e044368 TRANSFER SUCCEEDED\n"
     ]
    }
   ],
   "source": [
    "from globus_sdk import TransferClient\n",
    "\n",
    "# you must have transfer_token in your config for this to work\n",
    "#tc = TransferClient()\n",
    "\n",
    "print(\"My Last 25 Tasks:\")\n",
    "# `filter` to get Delete Tasks (default is just Transfer Tasks)\n",
    "for task in tc.task_list(num_results=25, filter=\"type:TRANSFER,DELETE\"):\n",
    "    print(task[\"task_id\"], task[\"type\"], task[\"status\"])"
   ]
  },
  {
   "cell_type": "code",
   "execution_count": 15,
   "metadata": {},
   "outputs": [
    {
     "name": "stdout",
     "output_type": "stream",
     "text": [
      "task_id = ae6f08a0-aedc-11e8-823c-0a3b7ca8ce66\n"
     ]
    }
   ],
   "source": [
    "tdata = globus_sdk.TransferData(tc, \"9d6d994a-6d04-11e5-ba46-22000b92c6ec\",\n",
    "                                 \"e09e65f5-6d04-11e5-ba46-22000b92c6ec\",\n",
    "                                 label=\"nogrowcheckplease\")\n",
    "                                 #sync_level=\"checksum\")\n",
    "#tdata.add_item(\"/source/path/dir/\", \"/dest/path/dir/\", recursive=True)\n",
    "tdata.add_item(\"/global/cscratch1/sd/yuanlai/gf_test/new_test_files_all_ost/\", \"/projects/AMASE/lyl/new_test_files_all_ost/\", recursive=True)\n",
    "#tdata.add_item(\"/global/homes/y/yuanlai/workspace/DTNSpeedTest/mpi_fread_test/s_fname_list.txt\", \"/dev/null\")\n",
    "#tdata.add_item(\"/global/homes/y/yuanlai/workspace/DTNSpeedTest/mpi_fread_test/s_fname_list.txt\", \"/dev/null\")\n",
    "transfer_result = tc.submit_transfer(tdata)\n",
    "print(\"task_id =\", transfer_result[\"task_id\"])"
   ]
  },
  {
   "cell_type": "code",
   "execution_count": null,
   "metadata": {},
   "outputs": [],
   "source": [
    "nersc_id = \"9d6d994a-6d04-11e5-ba46-22000b92c6ec\"\n",
    "alcf_id = \"e09e65f5-6d04-11e5-ba46-22000b92c6ec\"\n",
    "from_dir = \"/global/cscratch1/sd/yuanlai/gf_test/new_test_files_all_ost/\"\n",
    "to_dir = \"/projects/AMASE/lyl/new_test_files_all_ost/\"\n"
   ]
  }
 ],
 "metadata": {
  "kernelspec": {
   "display_name": "Python 3",
   "language": "python",
   "name": "python3"
  },
  "language_info": {
   "codemirror_mode": {
    "name": "ipython",
    "version": 3
   },
   "file_extension": ".py",
   "mimetype": "text/x-python",
   "name": "python",
   "nbconvert_exporter": "python",
   "pygments_lexer": "ipython3",
   "version": "3.6.5"
  }
 },
 "nbformat": 4,
 "nbformat_minor": 2
}

{
 "cells": [
  {
   "cell_type": "code",
   "execution_count": 17,
   "metadata": {},
   "outputs": [],
   "source": [
    "import globus_sdk\n",
    "import datetime\n",
    "import time\n",
    "import pytz\n",
    "import pandas as pd\n",
    "import calendar\n",
    "import numpy as np"
   ]
  },
  {
   "cell_type": "code",
   "execution_count": null,
   "metadata": {},
   "outputs": [],
   "source": []
  },
  {
   "cell_type": "code",
   "execution_count": 18,
   "metadata": {},
   "outputs": [
    {
     "name": "stdout",
     "output_type": "stream",
     "text": [
      "Please go to this URL and login: https://auth.globus.org/v2/oauth2/authorize?client_id=ac34a1cf-7412-4f43-a693-935d7d09fd85&redirect_uri=https%3A%2F%2Fauth.globus.org%2Fv2%2Fweb%2Fauth-code&scope=openid+profile+email+urn%3Aglobus%3Aauth%3Ascope%3Atransfer.api.globus.org%3Aall&state=_default&response_type=code&code_challenge=JdFeV1glXKZKiZVC6A208locYa9qmwwazy0ERcWtyS0&code_challenge_method=S256&access_type=online\n",
      "Please enter the code you get after login here: 4Biu0vAcW8Xg56tZHZLaseEAHlLR42\n"
     ]
    }
   ],
   "source": [
    "CLIENT_ID = 'ac34a1cf-7412-4f43-a693-935d7d09fd85'\n",
    "\n",
    "client = globus_sdk.NativeAppAuthClient(CLIENT_ID)\n",
    "client.oauth2_start_flow()\n",
    "\n",
    "authorize_url = client.oauth2_get_authorize_url()\n",
    "print('Please go to this URL and login: {0}'.format(authorize_url))\n",
    "\n",
    "# this is to work on Python2 and Python3 -- you can just use raw_input() or\n",
    "# input() for your specific version\n",
    "get_input = getattr(__builtins__, 'raw_input', input)\n",
    "auth_code = get_input(\n",
    "    'Please enter the code you get after login here: ').strip()\n",
    "token_response = client.oauth2_exchange_code_for_tokens(auth_code)\n",
    "\n",
    "globus_auth_data = token_response.by_resource_server['auth.globus.org']\n",
    "globus_transfer_data = token_response.by_resource_server['transfer.api.globus.org']\n",
    "\n",
    "# most specifically, you want these tokens as strings\n",
    "AUTH_TOKEN = globus_auth_data['access_token']\n",
    "TRANSFER_TOKEN = globus_transfer_data['access_token']"
   ]
  },
  {
   "cell_type": "code",
   "execution_count": 19,
   "metadata": {},
   "outputs": [
    {
     "name": "stdout",
     "output_type": "stream",
     "text": [
      "My Endpoints:\n",
      "[18c03e00-8157-11e8-94e4-0a6d4e044368] nersc_transfer\n"
     ]
    }
   ],
   "source": [
    "# a GlobusAuthorizer is an auxiliary object we use to wrap the token. In\n",
    "# more advanced scenarios, other types of GlobusAuthorizers give us\n",
    "# expressive power\n",
    "authorizer = globus_sdk.AccessTokenAuthorizer(TRANSFER_TOKEN)\n",
    "tc = globus_sdk.TransferClient(authorizer=authorizer)\n",
    "\n",
    "# high level interface; provides iterators for list responses\n",
    "print(\"My Endpoints:\")\n",
    "for ep in tc.endpoint_search(filter_scope=\"my-endpoints\"):\n",
    "    print(\"[{}] {}\".format(ep[\"id\"], ep[\"display_name\"]))"
   ]
  },
  {
   "cell_type": "code",
   "execution_count": 20,
   "metadata": {},
   "outputs": [
    {
     "name": "stdout",
     "output_type": "stream",
     "text": [
      "Please go to this URL and login: https://auth.globus.org/v2/oauth2/authorize?client_id=ac34a1cf-7412-4f43-a693-935d7d09fd85&redirect_uri=https%3A%2F%2Fauth.globus.org%2Fv2%2Fweb%2Fauth-code&scope=openid+profile+email+urn%3Aglobus%3Aauth%3Ascope%3Atransfer.api.globus.org%3Aall&state=_default&response_type=code&code_challenge=BoX-cXkGxu7U_QvxSUHc6u8GfJdxluvIpX4r4kfi1so&code_challenge_method=S256&access_type=online\n",
      "Please enter the code here: XsFiCotf62vyQRSOcVpKSe3JPFqspt\n"
     ]
    }
   ],
   "source": [
    "client = globus_sdk.NativeAppAuthClient(CLIENT_ID)\n",
    "client.oauth2_start_flow()\n",
    "\n",
    "print('Please go to this URL and login: {0}'\n",
    "      .format(client.oauth2_get_authorize_url()))\n",
    "\n",
    "get_input = getattr(__builtins__, 'raw_input', input)\n",
    "auth_code = get_input('Please enter the code here: ').strip()\n",
    "token_response = client.oauth2_exchange_code_for_tokens(auth_code)"
   ]
  },
  {
   "cell_type": "code",
   "execution_count": 21,
   "metadata": {},
   "outputs": [
    {
     "data": {
      "text/plain": [
       "\"{'auth.globus.org': {'scope': 'profile openid email', 'access_token': 'Ag80D1JG5jgvdO9kDqYmNXxybk0xQ4nGOQv8ybm4M633EDW3P9t8CJ9zedX4l5kVj4qVx9O4Dz1qBrh7Y47BgUB9d3U3pyQsKM43', 'refresh_token': None, 'token_type': 'Bearer', 'expires_at_seconds': 1537077647, 'resource_server': 'auth.globus.org'}, 'transfer.api.globus.org': {'scope': 'urn:globus:auth:scope:transfer.api.globus.org:all', 'access_token': 'AgkG4vQrmnJqbGwnVPoMn8ombpok0jKOzz2P6KYXqz3q2Wd2kMCOCG7OXnN7E4qdBMyPYmygvv67pFjx7jWbs6q0D', 'refresh_token': None, 'token_type': 'Bearer', 'expires_at_seconds': 1537077647, 'resource_server': 'transfer.api.globus.org'}}\""
      ]
     },
     "execution_count": 21,
     "metadata": {},
     "output_type": "execute_result"
    }
   ],
   "source": [
    "str(token_response.by_resource_server)"
   ]
  },
  {
   "cell_type": "code",
   "execution_count": 22,
   "metadata": {},
   "outputs": [
    {
     "name": "stdout",
     "output_type": "stream",
     "text": [
      "Please go to this URL and login: https://auth.globus.org/v2/oauth2/authorize?client_id=ac34a1cf-7412-4f43-a693-935d7d09fd85&redirect_uri=https%3A%2F%2Fauth.globus.org%2Fv2%2Fweb%2Fauth-code&scope=openid+profile+email+urn%3Aglobus%3Aauth%3Ascope%3Atransfer.api.globus.org%3Aall&state=_default&response_type=code&code_challenge=ykvHf5bi7Ogtitxd1a_xarU6oalr40O0j-g7NeEo__A&code_challenge_method=S256&access_type=offline\n",
      "Please enter the code here: pJ9o9OuLyqKMDrLxFua16wJWUawjvO\n"
     ]
    }
   ],
   "source": [
    "client = globus_sdk.NativeAppAuthClient(CLIENT_ID)\n",
    "client.oauth2_start_flow(refresh_tokens=True)\n",
    "\n",
    "print('Please go to this URL and login: {0}'\n",
    "      .format(client.oauth2_get_authorize_url()))\n",
    "\n",
    "get_input = getattr(__builtins__, 'raw_input', input)\n",
    "auth_code = get_input('Please enter the code here: ').strip()\n",
    "token_response = client.oauth2_exchange_code_for_tokens(auth_code)"
   ]
  },
  {
   "cell_type": "code",
   "execution_count": 23,
   "metadata": {},
   "outputs": [
    {
     "data": {
      "text/plain": [
       "\"{'auth.globus.org': {'scope': 'profile openid email', 'access_token': 'Ag6ylVq5YBQPNK5bWxme3GvaM97erEldPw42Xv9vv9j8Jmzm6ju2C9vaE6Gr9W090OyrJ8lpyGy6wGT14g1VKUW9eDSO58EuNQPN', 'refresh_token': 'Agd3No49lM3GgneVQJoMEKeQQYxOW44rWMbEGJNKo12ko1PVrPUOUgakwWpbMEvQd6pDV1awGQmvaJbrKEd8wBBDlDYB', 'token_type': 'Bearer', 'expires_at_seconds': 1537077663, 'resource_server': 'auth.globus.org'}, 'transfer.api.globus.org': {'scope': 'urn:globus:auth:scope:transfer.api.globus.org:all', 'access_token': 'AgP31olpxrr21GaKeJaJlXG2WOobMl3KKy6JMzD3lEk6p0aeOMFmCEq6YO57weOKDnln0k0J9yYMWDuqKWqvbI7xow', 'refresh_token': 'AgOGKzbDJDYqyMQnqQmJEQqv1YQ24XomdXoO2v7EnzraBlBNplIvU9wkO08vDw335NKgymYrpV4EXokQ2wdmXmexVPgOG', 'token_type': 'Bearer', 'expires_at_seconds': 1537077663, 'resource_server': 'transfer.api.globus.org'}}\""
      ]
     },
     "execution_count": 23,
     "metadata": {},
     "output_type": "execute_result"
    }
   ],
   "source": [
    "str(token_response.by_resource_server)"
   ]
  },
  {
   "cell_type": "code",
   "execution_count": 24,
   "execution_count": 9,
   "metadata": {},
   "outputs": [
    {
     "name": "stdout",
     "output_type": "stream",
     "text": [
      "My Last 25 Tasks:\n",
      "c352fcce-b468-11e8-8241-0a3b7ca8ce66 TRANSFER FAILED 8932591813\n"
     ]
    }
   ],
   "source": [
    "from globus_sdk import TransferClient\n",
    "\n",
    "# you must have transfer_token in your config for this to work\n",
    "#tc = TransferClient()\n",
    "\n",
    "print(\"My Last 25 Tasks:\")\n",
    "# `filter` to get Delete Tasks (default is just Transfer Tasks)\n",
    "for task in tc.task_list(num_results=1, filter=\"type:TRANSFER,DELETE\"):\n",
    "    print(task[\"task_id\"], task[\"type\"], task[\"status\"], task['effective_bytes_per_second'])"
   ]
  },
  {
   "cell_type": "code",
   "execution_count": 15,
   "metadata": {},
   "outputs": [
    {
     "name": "stdout",
     "output_type": "stream",
     "text": [
      "task_id = ae6f08a0-aedc-11e8-823c-0a3b7ca8ce66\n"
     ]
    }
   ],
   "source": [
    "tdata = globus_sdk.TransferData(tc, \"9d6d994a-6d04-11e5-ba46-22000b92c6ec\",\n",
    "                                 \"e09e65f5-6d04-11e5-ba46-22000b92c6ec\",\n",
    "                                 label=\"nogrowcheckplease\")\n",
    "                                 #sync_level=\"checksum\")\n",
    "#tdata.add_item(\"/source/path/dir/\", \"/dest/path/dir/\", recursive=True)\n",
    "tdata.add_item(\"/global/cscratch1/sd/yuanlai/gf_test/new_test_files_same_size/\", \"/projects/AMASE/lyl/new_test_files_all_ost/\", recursive=True)\n",
    "#tdata.add_item(\"/global/homes/y/yuanlai/workspace/DTNSpeedTest/mpi_fread_test/s_fname_list.txt\", \"/dev/null\")\n",
    "#tdata.add_item(\"/global/homes/y/yuanlai/workspace/DTNSpeedTest/mpi_fread_test/s_fname_list.txt\", \"/dev/null\")\n",
    "transfer_result = tc.submit_transfer(tdata)\n",
    "print(\"task_id =\", transfer_result[\"task_id\"])"
   ]
  },
  {
   "cell_type": "code",
   "execution_count": 25,
   "metadata": {},
   "outputs": [],
   "source": [
    "nersc_id = \"9d6d994a-6d04-11e5-ba46-22000b92c6ec\"\n",
    "alcf_id = \"e09e65f5-6d04-11e5-ba46-22000b92c6ec\"\n",
    "from_big_dir = \"/global/cscratch1/sd/yuanlai/gf_test/new_test_files_same_size_128/\"\n",
    "to_big_dir = \"/projects/AMASE/lyl/new_test_files_same_size_128/\"\n",
    "from_small_dir = \"/global/cscratch1/sd/yuanlai/gf_test/new_test_files_all_ost/\"\n",
    "to_small_dir = \"/projects/AMASE/lyl/new_test_files_all_ost/\""
   ]
  },
  {
   "cell_type": "code",
   "execution_count": 26,
   "metadata": {},
   "outputs": [
    {
     "name": "stdout",
     "output_type": "stream",
     "text": [
      "task_id = a11f2bd4-b7e3-11e8-8bfb-0a1d4c5c824a\n"
     ]
    }
   ],
   "source": [
    "tdata = globus_sdk.TransferData(tc, nersc_id, alcf_id)\n",
    "tdata.add_item(from_big_dir, to_big_dir, recursive=True)\n",
    "transfer_result = tc.submit_transfer(tdata)\n",
    "print(\"task_id =\", transfer_result[\"task_id\"])"
   ]
  },
  {
   "cell_type": "code",
   "execution_count": 15,
   "metadata": {},
   "outputs": [
    {
     "name": "stdout",
     "output_type": "stream",
     "text": [
      "task_id = c352fcce-b468-11e8-8241-0a3b7ca8ce66\n"
     ]
    }
   ],
   "source": [
    "now = datetime.datetime.utcnow()\n",
    "ddl = now + datetime.timedelta(minutes=10)\n",
    "tdata = globus_sdk.TransferData(tc, nersc_id, alcf_id, label=\"nogrowcheckplease\", deadline=str(ddl))\n",
    "for i in range(128):\n",
    "    tdata.add_item(\"/dev/zero\", \"/dev/null\")\n",
    "transfer_result = tc.submit_transfer(tdata)\n",
    "print(\"task_id =\", transfer_result[\"task_id\"])"
   ]
  },
  {
   "cell_type": "code",
   "execution_count": 16,
   "metadata": {},
   "outputs": [
    {
     "data": {
      "text/plain": [
       "8932591813"
      ]
     },
     "execution_count": 16,
     "metadata": {},
     "output_type": "execute_result"
    }
   ],
   "source": [
    "tc.get_task(\"c352fcce-b468-11e8-8241-0a3b7ca8ce66\")['effective_bytes_per_second']"
   ]
  },
  {
   "cell_type": "code",
   "execution_count": null,
   "metadata": {},
   "outputs": [],
   "source": [
    "(pd.to_datetime('2018-09-02T22:01:40.000Z') - pd.datetime.utcfromtimestamp(0)).total_seconds().__int__()"
   ]
  },
  {
   "cell_type": "code",
   "execution_count": 52,
   "metadata": {},
   "outputs": [
    {
     "data": {
      "text/plain": [
       "1535921413"
      ]
     },
     "execution_count": 52,
     "metadata": {},
     "output_type": "execute_result"
    }
   ],
   "source": [
    "calendar.timegm(now.utctimetuple())"
   ]
  },
  {
   "cell_type": "code",
   "execution_count": 29,
   "metadata": {},
   "outputs": [],
   "source": [
    "tdata = globus_sdk.TransferData(tc, nersc_id, alcf_id)\n",
    "tdata.add_item(from_small_dir, to_small_dir, recursive=True)\n",
    "transfer_result = tc.submit_transfer(tdata)"
   ]
  },
  {
   "cell_type": "code",
   "execution_count": 27,
   "metadata": {},
   "outputs": [
    {
     "name": "stdout",
     "output_type": "stream",
     "text": [
      "0\n",
      "1\n",
      "2\n",
      "3\n",
      "4\n",
      "5\n",
      "6\n",
      "7\n",
      "8\n",
      "9\n",
      "[7164910614, 7889985104, 8116119049, 8173385169, 7962041528, 7454176841, 7745259194, 8170994430, 8116277753, 8108372580]\n",
      "[3325414515, 3086004630, 3498641434, 3431044729, 3561453825, 3561073032, 3597265600, 3779552583, 3273483071, 3631841668]\n"
     ]
    }
   ],
   "source": [
    "big_transfer_speed = []\n",
    "small_transfer_speed = []\n",
    "for i in range(10):\n",
    "    tdata = globus_sdk.TransferData(tc, nersc_id, alcf_id)\n",
    "    tdata.add_item(from_big_dir, to_big_dir, recursive=True)\n",
    "    transfer_result = tc.submit_transfer(tdata)\n",
    "    while not tc.task_wait(transfer_result[\"task_id\"], timeout=10):\n",
    "        pass\n",
    "    big_transfer_speed.append(tc.get_task(transfer_result[\"task_id\"])['effective_bytes_per_second'])\n",
    "    \n",
    "    tdata = globus_sdk.TransferData(tc, nersc_id, alcf_id)\n",
    "    tdata.add_item(from_small_dir, to_small_dir, recursive=True)\n",
    "    transfer_result = tc.submit_transfer(tdata)\n",
    "    while not tc.task_wait(transfer_result[\"task_id\"], timeout=10):\n",
    "        pass\n",
    "    small_transfer_speed.append(tc.get_task(transfer_result[\"task_id\"])['effective_bytes_per_second'])\n",
    "    print(i)\n",
    "print(big_transfer_speed)\n",
    "print(small_transfer_speed)\n",
    "np.savez(\"data/bigVSsmall_10_big-same-size_speeds.npz\", name1 = big_transfer_speed, name2 = small_transfer_speed)\n"
   ]
  },
  {
   "cell_type": "code",
   "execution_count": 71,
   "metadata": {},
   "outputs": [
    {
     "data": {
      "text/plain": [
       "array([2.00492703, 1.73845353, 2.02000409, 2.09034961, 2.35632986,\n",
       "       1.99736833, 1.94575394, 2.09725914, 2.18795697, 2.11784687])"
      ]
     },
     "execution_count": 71,
     "metadata": {},
     "output_type": "execute_result"
    }
   ],
   "source": [
    "np.load(\"data/bigVSsmall_10_speeds.npz\")[\"name1\"]/np.load(\"data/bigVSsmall_10_speeds.npz\")[\"name2\"]"
   ]
  },
  {
   "cell_type": "code",
   "execution_count": null,
   "metadata": {},
   "outputs": [],
   "source": []
  }
 ],
 "metadata": {
  "kernelspec": {
   "display_name": "Python [conda env:myenv]",
   "language": "python",
   "name": "conda-env-myenv-py"
  },
  "language_info": {
   "codemirror_mode": {
    "name": "ipython",
    "version": 3
   },
   "file_extension": ".py",
   "mimetype": "text/x-python",
   "name": "python",
   "nbconvert_exporter": "python",
   "pygments_lexer": "ipython3",
   "version": "3.7.0"
  }
 },
 "nbformat": 4,
 "nbformat_minor": 2
}
